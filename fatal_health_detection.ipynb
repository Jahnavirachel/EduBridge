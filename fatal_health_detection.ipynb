{
  "cells": [
    {
      "cell_type": "markdown",
      "metadata": {
        "id": "view-in-github",
        "colab_type": "text"
      },
      "source": [
        "<a href=\"https://colab.research.google.com/github/Jahnavirachel/EduBridge/blob/main/fatal_health_detection.ipynb\" target=\"_parent\"><img src=\"https://colab.research.google.com/assets/colab-badge.svg\" alt=\"Open In Colab\"/></a>"
      ]
    },
    {
      "cell_type": "code",
      "execution_count": null,
      "id": "41a78d5c",
      "metadata": {
        "execution": {
          "iopub.execute_input": "2022-10-20T04:16:36.694387Z",
          "iopub.status.busy": "2022-10-20T04:16:36.693857Z",
          "iopub.status.idle": "2022-10-20T04:16:37.876590Z",
          "shell.execute_reply": "2022-10-20T04:16:37.875245Z"
        },
        "papermill": {
          "duration": 1.202138,
          "end_time": "2022-10-20T04:16:37.879768",
          "exception": false,
          "start_time": "2022-10-20T04:16:36.677630",
          "status": "completed"
        },
        "tags": [],
        "id": "41a78d5c"
      },
      "outputs": [],
      "source": [
        "# Importing Libraries\n",
        "\n",
        "import numpy as np\n",
        "import pandas as pd\n",
        "import scipy.stats as stats \n",
        "from matplotlib import pyplot as plt\n",
        "%matplotlib inline\n",
        "from sklearn.preprocessing import StandardScaler"
      ]
    },
    {
      "cell_type": "markdown",
      "id": "8acd9b95",
      "metadata": {
        "papermill": {
          "duration": 0.013322,
          "end_time": "2022-10-20T04:16:37.907510",
          "exception": false,
          "start_time": "2022-10-20T04:16:37.894188",
          "status": "completed"
        },
        "tags": [],
        "id": "8acd9b95"
      },
      "source": [
        "# Loading data\n",
        "This dataset contains 2126 records of features extracted from Cardiotocogram exams, which were then classified by three expert obstetritians into 3 classes:\n",
        "\n",
        "Normal, Suspect, Pathological."
      ]
    },
    {
      "cell_type": "code",
      "execution_count": null,
      "id": "47a12752",
      "metadata": {
        "execution": {
          "iopub.execute_input": "2022-10-20T04:16:37.938932Z",
          "iopub.status.busy": "2022-10-20T04:16:37.937905Z",
          "iopub.status.idle": "2022-10-20T04:16:37.969365Z",
          "shell.execute_reply": "2022-10-20T04:16:37.968254Z"
        },
        "papermill": {
          "duration": 0.04934,
          "end_time": "2022-10-20T04:16:37.972257",
          "exception": false,
          "start_time": "2022-10-20T04:16:37.922917",
          "status": "completed"
        },
        "tags": [],
        "id": "47a12752"
      },
      "outputs": [],
      "source": [
        "# Loading dataset\n",
        "df = pd.read_csv('/content/train.csv')"
      ]
    },
    {
      "cell_type": "code",
      "execution_count": null,
      "id": "e3b3494e",
      "metadata": {
        "execution": {
          "iopub.execute_input": "2022-10-20T04:16:38.001032Z",
          "iopub.status.busy": "2022-10-20T04:16:38.000318Z",
          "iopub.status.idle": "2022-10-20T04:16:38.061184Z",
          "shell.execute_reply": "2022-10-20T04:16:38.059918Z"
        },
        "papermill": {
          "duration": 0.078865,
          "end_time": "2022-10-20T04:16:38.063882",
          "exception": false,
          "start_time": "2022-10-20T04:16:37.985017",
          "status": "completed"
        },
        "tags": [],
        "colab": {
          "base_uri": "https://localhost:8080/",
          "height": 505
        },
        "id": "e3b3494e",
        "outputId": "32fbbe98-438e-4a36-d768-8fcc607f9e9d"
      },
      "outputs": [
        {
          "output_type": "execute_result",
          "data": {
            "text/plain": [
              "      baseline value  accelerations  fetal_movement  uterine_contractions  \\\n",
              "0              142.0          0.000           0.000                 0.007   \n",
              "1              122.0          0.000           0.000                 0.006   \n",
              "2              129.0          0.005           0.003                 0.001   \n",
              "3              136.0          0.006           0.000                 0.008   \n",
              "4              144.0          0.000           0.000                 0.006   \n",
              "...              ...            ...             ...                   ...   \n",
              "1695           129.0          0.000           0.001                 0.006   \n",
              "1696           142.0          0.001           0.003                 0.001   \n",
              "1697           147.0          0.013           0.000                 0.010   \n",
              "1698           130.0          0.003           0.000                 0.007   \n",
              "1699           123.0          0.004           0.007                 0.000   \n",
              "\n",
              "      light_decelerations  severe_decelerations  prolongued_decelerations  \\\n",
              "0                   0.000                   0.0                     0.000   \n",
              "1                   0.002                   0.0                     0.000   \n",
              "2                   0.000                   0.0                     0.000   \n",
              "3                   0.000                   0.0                     0.000   \n",
              "4                   0.000                   0.0                     0.000   \n",
              "...                   ...                   ...                       ...   \n",
              "1695                0.008                   0.0                     0.002   \n",
              "1696                0.002                   0.0                     0.000   \n",
              "1697                0.000                   0.0                     0.000   \n",
              "1698                0.000                   0.0                     0.000   \n",
              "1699                0.000                   0.0                     0.000   \n",
              "\n",
              "      abnormal_short_term_variability  mean_value_of_short_term_variability  \\\n",
              "0                                58.0                                   0.4   \n",
              "1                                27.0                                   1.4   \n",
              "2                                34.0                                   1.7   \n",
              "3                                45.0                                   0.8   \n",
              "4                                32.0                                   1.0   \n",
              "...                               ...                                   ...   \n",
              "1695                             65.0                                   2.8   \n",
              "1696                             55.0                                   1.3   \n",
              "1697                             36.0                                   1.2   \n",
              "1698                             33.0                                   1.1   \n",
              "1699                             56.0                                   0.7   \n",
              "\n",
              "      percentage_of_time_with_abnormal_long_term_variability  ...  \\\n",
              "0                                                   9.0       ...   \n",
              "1                                                   4.0       ...   \n",
              "2                                                   0.0       ...   \n",
              "3                                                   2.0       ...   \n",
              "4                                                   0.0       ...   \n",
              "...                                                 ...       ...   \n",
              "1695                                                0.0       ...   \n",
              "1696                                               10.0       ...   \n",
              "1697                                                0.0       ...   \n",
              "1698                                                0.0       ...   \n",
              "1699                                                0.0       ...   \n",
              "\n",
              "      histogram_min  histogram_max  histogram_number_of_peaks  \\\n",
              "0             136.0          156.0                        0.0   \n",
              "1              91.0          144.0                        4.0   \n",
              "2              78.0          196.0                       10.0   \n",
              "3             129.0          158.0                        2.0   \n",
              "4             122.0          160.0                        1.0   \n",
              "...             ...            ...                        ...   \n",
              "1695           50.0          151.0                        7.0   \n",
              "1696           52.0          167.0                       15.0   \n",
              "1697          132.0          174.0                        2.0   \n",
              "1698          103.0          156.0                        3.0   \n",
              "1699           81.0          152.0                        4.0   \n",
              "\n",
              "      histogram_number_of_zeroes  histogram_mode  histogram_mean  \\\n",
              "0                            0.0           148.0           147.0   \n",
              "1                            0.0           126.0           120.0   \n",
              "2                            0.0           137.0           136.0   \n",
              "3                            0.0           144.0           143.0   \n",
              "4                            0.0           150.0           147.0   \n",
              "...                          ...             ...             ...   \n",
              "1695                         2.0           105.0            86.0   \n",
              "1696                         3.0           148.0           142.0   \n",
              "1697                         0.0           157.0           157.0   \n",
              "1698                         0.0           133.0           133.0   \n",
              "1699                         0.0           127.0           129.0   \n",
              "\n",
              "      histogram_median  histogram_variance  histogram_tendency  fetal_health  \n",
              "0                149.0                 1.0                 0.0           1.0  \n",
              "1                122.0                 6.0                 0.0           1.0  \n",
              "2                137.0                 6.0                 0.0           1.0  \n",
              "3                145.0                 1.0                 0.0           1.0  \n",
              "4                149.0                 2.0                 1.0           1.0  \n",
              "...                ...                 ...                 ...           ...  \n",
              "1695             112.0                13.0                 0.0           3.0  \n",
              "1696             147.0                20.0                 1.0           1.0  \n",
              "1697             158.0                 2.0                 0.0           1.0  \n",
              "1698             134.0                 4.0                 0.0           1.0  \n",
              "1699             131.0                 4.0                 1.0           1.0  \n",
              "\n",
              "[1700 rows x 22 columns]"
            ],
            "text/html": [
              "\n",
              "  <div id=\"df-53f4c0b0-9f9c-43f2-9a70-9ce023424e52\">\n",
              "    <div class=\"colab-df-container\">\n",
              "      <div>\n",
              "<style scoped>\n",
              "    .dataframe tbody tr th:only-of-type {\n",
              "        vertical-align: middle;\n",
              "    }\n",
              "\n",
              "    .dataframe tbody tr th {\n",
              "        vertical-align: top;\n",
              "    }\n",
              "\n",
              "    .dataframe thead th {\n",
              "        text-align: right;\n",
              "    }\n",
              "</style>\n",
              "<table border=\"1\" class=\"dataframe\">\n",
              "  <thead>\n",
              "    <tr style=\"text-align: right;\">\n",
              "      <th></th>\n",
              "      <th>baseline value</th>\n",
              "      <th>accelerations</th>\n",
              "      <th>fetal_movement</th>\n",
              "      <th>uterine_contractions</th>\n",
              "      <th>light_decelerations</th>\n",
              "      <th>severe_decelerations</th>\n",
              "      <th>prolongued_decelerations</th>\n",
              "      <th>abnormal_short_term_variability</th>\n",
              "      <th>mean_value_of_short_term_variability</th>\n",
              "      <th>percentage_of_time_with_abnormal_long_term_variability</th>\n",
              "      <th>...</th>\n",
              "      <th>histogram_min</th>\n",
              "      <th>histogram_max</th>\n",
              "      <th>histogram_number_of_peaks</th>\n",
              "      <th>histogram_number_of_zeroes</th>\n",
              "      <th>histogram_mode</th>\n",
              "      <th>histogram_mean</th>\n",
              "      <th>histogram_median</th>\n",
              "      <th>histogram_variance</th>\n",
              "      <th>histogram_tendency</th>\n",
              "      <th>fetal_health</th>\n",
              "    </tr>\n",
              "  </thead>\n",
              "  <tbody>\n",
              "    <tr>\n",
              "      <th>0</th>\n",
              "      <td>142.0</td>\n",
              "      <td>0.000</td>\n",
              "      <td>0.000</td>\n",
              "      <td>0.007</td>\n",
              "      <td>0.000</td>\n",
              "      <td>0.0</td>\n",
              "      <td>0.000</td>\n",
              "      <td>58.0</td>\n",
              "      <td>0.4</td>\n",
              "      <td>9.0</td>\n",
              "      <td>...</td>\n",
              "      <td>136.0</td>\n",
              "      <td>156.0</td>\n",
              "      <td>0.0</td>\n",
              "      <td>0.0</td>\n",
              "      <td>148.0</td>\n",
              "      <td>147.0</td>\n",
              "      <td>149.0</td>\n",
              "      <td>1.0</td>\n",
              "      <td>0.0</td>\n",
              "      <td>1.0</td>\n",
              "    </tr>\n",
              "    <tr>\n",
              "      <th>1</th>\n",
              "      <td>122.0</td>\n",
              "      <td>0.000</td>\n",
              "      <td>0.000</td>\n",
              "      <td>0.006</td>\n",
              "      <td>0.002</td>\n",
              "      <td>0.0</td>\n",
              "      <td>0.000</td>\n",
              "      <td>27.0</td>\n",
              "      <td>1.4</td>\n",
              "      <td>4.0</td>\n",
              "      <td>...</td>\n",
              "      <td>91.0</td>\n",
              "      <td>144.0</td>\n",
              "      <td>4.0</td>\n",
              "      <td>0.0</td>\n",
              "      <td>126.0</td>\n",
              "      <td>120.0</td>\n",
              "      <td>122.0</td>\n",
              "      <td>6.0</td>\n",
              "      <td>0.0</td>\n",
              "      <td>1.0</td>\n",
              "    </tr>\n",
              "    <tr>\n",
              "      <th>2</th>\n",
              "      <td>129.0</td>\n",
              "      <td>0.005</td>\n",
              "      <td>0.003</td>\n",
              "      <td>0.001</td>\n",
              "      <td>0.000</td>\n",
              "      <td>0.0</td>\n",
              "      <td>0.000</td>\n",
              "      <td>34.0</td>\n",
              "      <td>1.7</td>\n",
              "      <td>0.0</td>\n",
              "      <td>...</td>\n",
              "      <td>78.0</td>\n",
              "      <td>196.0</td>\n",
              "      <td>10.0</td>\n",
              "      <td>0.0</td>\n",
              "      <td>137.0</td>\n",
              "      <td>136.0</td>\n",
              "      <td>137.0</td>\n",
              "      <td>6.0</td>\n",
              "      <td>0.0</td>\n",
              "      <td>1.0</td>\n",
              "    </tr>\n",
              "    <tr>\n",
              "      <th>3</th>\n",
              "      <td>136.0</td>\n",
              "      <td>0.006</td>\n",
              "      <td>0.000</td>\n",
              "      <td>0.008</td>\n",
              "      <td>0.000</td>\n",
              "      <td>0.0</td>\n",
              "      <td>0.000</td>\n",
              "      <td>45.0</td>\n",
              "      <td>0.8</td>\n",
              "      <td>2.0</td>\n",
              "      <td>...</td>\n",
              "      <td>129.0</td>\n",
              "      <td>158.0</td>\n",
              "      <td>2.0</td>\n",
              "      <td>0.0</td>\n",
              "      <td>144.0</td>\n",
              "      <td>143.0</td>\n",
              "      <td>145.0</td>\n",
              "      <td>1.0</td>\n",
              "      <td>0.0</td>\n",
              "      <td>1.0</td>\n",
              "    </tr>\n",
              "    <tr>\n",
              "      <th>4</th>\n",
              "      <td>144.0</td>\n",
              "      <td>0.000</td>\n",
              "      <td>0.000</td>\n",
              "      <td>0.006</td>\n",
              "      <td>0.000</td>\n",
              "      <td>0.0</td>\n",
              "      <td>0.000</td>\n",
              "      <td>32.0</td>\n",
              "      <td>1.0</td>\n",
              "      <td>0.0</td>\n",
              "      <td>...</td>\n",
              "      <td>122.0</td>\n",
              "      <td>160.0</td>\n",
              "      <td>1.0</td>\n",
              "      <td>0.0</td>\n",
              "      <td>150.0</td>\n",
              "      <td>147.0</td>\n",
              "      <td>149.0</td>\n",
              "      <td>2.0</td>\n",
              "      <td>1.0</td>\n",
              "      <td>1.0</td>\n",
              "    </tr>\n",
              "    <tr>\n",
              "      <th>...</th>\n",
              "      <td>...</td>\n",
              "      <td>...</td>\n",
              "      <td>...</td>\n",
              "      <td>...</td>\n",
              "      <td>...</td>\n",
              "      <td>...</td>\n",
              "      <td>...</td>\n",
              "      <td>...</td>\n",
              "      <td>...</td>\n",
              "      <td>...</td>\n",
              "      <td>...</td>\n",
              "      <td>...</td>\n",
              "      <td>...</td>\n",
              "      <td>...</td>\n",
              "      <td>...</td>\n",
              "      <td>...</td>\n",
              "      <td>...</td>\n",
              "      <td>...</td>\n",
              "      <td>...</td>\n",
              "      <td>...</td>\n",
              "      <td>...</td>\n",
              "    </tr>\n",
              "    <tr>\n",
              "      <th>1695</th>\n",
              "      <td>129.0</td>\n",
              "      <td>0.000</td>\n",
              "      <td>0.001</td>\n",
              "      <td>0.006</td>\n",
              "      <td>0.008</td>\n",
              "      <td>0.0</td>\n",
              "      <td>0.002</td>\n",
              "      <td>65.0</td>\n",
              "      <td>2.8</td>\n",
              "      <td>0.0</td>\n",
              "      <td>...</td>\n",
              "      <td>50.0</td>\n",
              "      <td>151.0</td>\n",
              "      <td>7.0</td>\n",
              "      <td>2.0</td>\n",
              "      <td>105.0</td>\n",
              "      <td>86.0</td>\n",
              "      <td>112.0</td>\n",
              "      <td>13.0</td>\n",
              "      <td>0.0</td>\n",
              "      <td>3.0</td>\n",
              "    </tr>\n",
              "    <tr>\n",
              "      <th>1696</th>\n",
              "      <td>142.0</td>\n",
              "      <td>0.001</td>\n",
              "      <td>0.003</td>\n",
              "      <td>0.001</td>\n",
              "      <td>0.002</td>\n",
              "      <td>0.0</td>\n",
              "      <td>0.000</td>\n",
              "      <td>55.0</td>\n",
              "      <td>1.3</td>\n",
              "      <td>10.0</td>\n",
              "      <td>...</td>\n",
              "      <td>52.0</td>\n",
              "      <td>167.0</td>\n",
              "      <td>15.0</td>\n",
              "      <td>3.0</td>\n",
              "      <td>148.0</td>\n",
              "      <td>142.0</td>\n",
              "      <td>147.0</td>\n",
              "      <td>20.0</td>\n",
              "      <td>1.0</td>\n",
              "      <td>1.0</td>\n",
              "    </tr>\n",
              "    <tr>\n",
              "      <th>1697</th>\n",
              "      <td>147.0</td>\n",
              "      <td>0.013</td>\n",
              "      <td>0.000</td>\n",
              "      <td>0.010</td>\n",
              "      <td>0.000</td>\n",
              "      <td>0.0</td>\n",
              "      <td>0.000</td>\n",
              "      <td>36.0</td>\n",
              "      <td>1.2</td>\n",
              "      <td>0.0</td>\n",
              "      <td>...</td>\n",
              "      <td>132.0</td>\n",
              "      <td>174.0</td>\n",
              "      <td>2.0</td>\n",
              "      <td>0.0</td>\n",
              "      <td>157.0</td>\n",
              "      <td>157.0</td>\n",
              "      <td>158.0</td>\n",
              "      <td>2.0</td>\n",
              "      <td>0.0</td>\n",
              "      <td>1.0</td>\n",
              "    </tr>\n",
              "    <tr>\n",
              "      <th>1698</th>\n",
              "      <td>130.0</td>\n",
              "      <td>0.003</td>\n",
              "      <td>0.000</td>\n",
              "      <td>0.007</td>\n",
              "      <td>0.000</td>\n",
              "      <td>0.0</td>\n",
              "      <td>0.000</td>\n",
              "      <td>33.0</td>\n",
              "      <td>1.1</td>\n",
              "      <td>0.0</td>\n",
              "      <td>...</td>\n",
              "      <td>103.0</td>\n",
              "      <td>156.0</td>\n",
              "      <td>3.0</td>\n",
              "      <td>0.0</td>\n",
              "      <td>133.0</td>\n",
              "      <td>133.0</td>\n",
              "      <td>134.0</td>\n",
              "      <td>4.0</td>\n",
              "      <td>0.0</td>\n",
              "      <td>1.0</td>\n",
              "    </tr>\n",
              "    <tr>\n",
              "      <th>1699</th>\n",
              "      <td>123.0</td>\n",
              "      <td>0.004</td>\n",
              "      <td>0.007</td>\n",
              "      <td>0.000</td>\n",
              "      <td>0.000</td>\n",
              "      <td>0.0</td>\n",
              "      <td>0.000</td>\n",
              "      <td>56.0</td>\n",
              "      <td>0.7</td>\n",
              "      <td>0.0</td>\n",
              "      <td>...</td>\n",
              "      <td>81.0</td>\n",
              "      <td>152.0</td>\n",
              "      <td>4.0</td>\n",
              "      <td>0.0</td>\n",
              "      <td>127.0</td>\n",
              "      <td>129.0</td>\n",
              "      <td>131.0</td>\n",
              "      <td>4.0</td>\n",
              "      <td>1.0</td>\n",
              "      <td>1.0</td>\n",
              "    </tr>\n",
              "  </tbody>\n",
              "</table>\n",
              "<p>1700 rows × 22 columns</p>\n",
              "</div>\n",
              "      <button class=\"colab-df-convert\" onclick=\"convertToInteractive('df-53f4c0b0-9f9c-43f2-9a70-9ce023424e52')\"\n",
              "              title=\"Convert this dataframe to an interactive table.\"\n",
              "              style=\"display:none;\">\n",
              "        \n",
              "  <svg xmlns=\"http://www.w3.org/2000/svg\" height=\"24px\"viewBox=\"0 0 24 24\"\n",
              "       width=\"24px\">\n",
              "    <path d=\"M0 0h24v24H0V0z\" fill=\"none\"/>\n",
              "    <path d=\"M18.56 5.44l.94 2.06.94-2.06 2.06-.94-2.06-.94-.94-2.06-.94 2.06-2.06.94zm-11 1L8.5 8.5l.94-2.06 2.06-.94-2.06-.94L8.5 2.5l-.94 2.06-2.06.94zm10 10l.94 2.06.94-2.06 2.06-.94-2.06-.94-.94-2.06-.94 2.06-2.06.94z\"/><path d=\"M17.41 7.96l-1.37-1.37c-.4-.4-.92-.59-1.43-.59-.52 0-1.04.2-1.43.59L10.3 9.45l-7.72 7.72c-.78.78-.78 2.05 0 2.83L4 21.41c.39.39.9.59 1.41.59.51 0 1.02-.2 1.41-.59l7.78-7.78 2.81-2.81c.8-.78.8-2.07 0-2.86zM5.41 20L4 18.59l7.72-7.72 1.47 1.35L5.41 20z\"/>\n",
              "  </svg>\n",
              "      </button>\n",
              "      \n",
              "  <style>\n",
              "    .colab-df-container {\n",
              "      display:flex;\n",
              "      flex-wrap:wrap;\n",
              "      gap: 12px;\n",
              "    }\n",
              "\n",
              "    .colab-df-convert {\n",
              "      background-color: #E8F0FE;\n",
              "      border: none;\n",
              "      border-radius: 50%;\n",
              "      cursor: pointer;\n",
              "      display: none;\n",
              "      fill: #1967D2;\n",
              "      height: 32px;\n",
              "      padding: 0 0 0 0;\n",
              "      width: 32px;\n",
              "    }\n",
              "\n",
              "    .colab-df-convert:hover {\n",
              "      background-color: #E2EBFA;\n",
              "      box-shadow: 0px 1px 2px rgba(60, 64, 67, 0.3), 0px 1px 3px 1px rgba(60, 64, 67, 0.15);\n",
              "      fill: #174EA6;\n",
              "    }\n",
              "\n",
              "    [theme=dark] .colab-df-convert {\n",
              "      background-color: #3B4455;\n",
              "      fill: #D2E3FC;\n",
              "    }\n",
              "\n",
              "    [theme=dark] .colab-df-convert:hover {\n",
              "      background-color: #434B5C;\n",
              "      box-shadow: 0px 1px 3px 1px rgba(0, 0, 0, 0.15);\n",
              "      filter: drop-shadow(0px 1px 2px rgba(0, 0, 0, 0.3));\n",
              "      fill: #FFFFFF;\n",
              "    }\n",
              "  </style>\n",
              "\n",
              "      <script>\n",
              "        const buttonEl =\n",
              "          document.querySelector('#df-53f4c0b0-9f9c-43f2-9a70-9ce023424e52 button.colab-df-convert');\n",
              "        buttonEl.style.display =\n",
              "          google.colab.kernel.accessAllowed ? 'block' : 'none';\n",
              "\n",
              "        async function convertToInteractive(key) {\n",
              "          const element = document.querySelector('#df-53f4c0b0-9f9c-43f2-9a70-9ce023424e52');\n",
              "          const dataTable =\n",
              "            await google.colab.kernel.invokeFunction('convertToInteractive',\n",
              "                                                     [key], {});\n",
              "          if (!dataTable) return;\n",
              "\n",
              "          const docLinkHtml = 'Like what you see? Visit the ' +\n",
              "            '<a target=\"_blank\" href=https://colab.research.google.com/notebooks/data_table.ipynb>data table notebook</a>'\n",
              "            + ' to learn more about interactive tables.';\n",
              "          element.innerHTML = '';\n",
              "          dataTable['output_type'] = 'display_data';\n",
              "          await google.colab.output.renderOutput(dataTable, element);\n",
              "          const docLink = document.createElement('div');\n",
              "          docLink.innerHTML = docLinkHtml;\n",
              "          element.appendChild(docLink);\n",
              "        }\n",
              "      </script>\n",
              "    </div>\n",
              "  </div>\n",
              "  "
            ]
          },
          "metadata": {},
          "execution_count": 67
        }
      ],
      "source": [
        "df"
      ]
    },
    {
      "cell_type": "code",
      "execution_count": null,
      "id": "a1044261",
      "metadata": {
        "execution": {
          "iopub.execute_input": "2022-10-20T04:16:38.131380Z",
          "iopub.status.busy": "2022-10-20T04:16:38.130907Z",
          "iopub.status.idle": "2022-10-20T04:16:38.137337Z",
          "shell.execute_reply": "2022-10-20T04:16:38.135963Z"
        },
        "papermill": {
          "duration": 0.023825,
          "end_time": "2022-10-20T04:16:38.139965",
          "exception": false,
          "start_time": "2022-10-20T04:16:38.116140",
          "status": "completed"
        },
        "tags": [],
        "id": "a1044261"
      },
      "outputs": [],
      "source": [
        "X = pd.DataFrame(df.iloc[:,:-1])"
      ]
    },
    {
      "cell_type": "code",
      "execution_count": null,
      "id": "b573cedd",
      "metadata": {
        "execution": {
          "iopub.execute_input": "2022-10-20T04:16:38.168489Z",
          "iopub.status.busy": "2022-10-20T04:16:38.168049Z",
          "iopub.status.idle": "2022-10-20T04:16:38.215668Z",
          "shell.execute_reply": "2022-10-20T04:16:38.213978Z"
        },
        "papermill": {
          "duration": 0.065286,
          "end_time": "2022-10-20T04:16:38.218548",
          "exception": false,
          "start_time": "2022-10-20T04:16:38.153262",
          "status": "completed"
        },
        "tags": [],
        "colab": {
          "base_uri": "https://localhost:8080/",
          "height": 505
        },
        "id": "b573cedd",
        "outputId": "beaed3b2-c5df-4744-ebfb-337fe4b66980"
      },
      "outputs": [
        {
          "output_type": "execute_result",
          "data": {
            "text/plain": [
              "      baseline value  accelerations  fetal_movement  uterine_contractions  \\\n",
              "0              142.0          0.000           0.000                 0.007   \n",
              "1              122.0          0.000           0.000                 0.006   \n",
              "2              129.0          0.005           0.003                 0.001   \n",
              "3              136.0          0.006           0.000                 0.008   \n",
              "4              144.0          0.000           0.000                 0.006   \n",
              "...              ...            ...             ...                   ...   \n",
              "1695           129.0          0.000           0.001                 0.006   \n",
              "1696           142.0          0.001           0.003                 0.001   \n",
              "1697           147.0          0.013           0.000                 0.010   \n",
              "1698           130.0          0.003           0.000                 0.007   \n",
              "1699           123.0          0.004           0.007                 0.000   \n",
              "\n",
              "      light_decelerations  severe_decelerations  prolongued_decelerations  \\\n",
              "0                   0.000                   0.0                     0.000   \n",
              "1                   0.002                   0.0                     0.000   \n",
              "2                   0.000                   0.0                     0.000   \n",
              "3                   0.000                   0.0                     0.000   \n",
              "4                   0.000                   0.0                     0.000   \n",
              "...                   ...                   ...                       ...   \n",
              "1695                0.008                   0.0                     0.002   \n",
              "1696                0.002                   0.0                     0.000   \n",
              "1697                0.000                   0.0                     0.000   \n",
              "1698                0.000                   0.0                     0.000   \n",
              "1699                0.000                   0.0                     0.000   \n",
              "\n",
              "      abnormal_short_term_variability  mean_value_of_short_term_variability  \\\n",
              "0                                58.0                                   0.4   \n",
              "1                                27.0                                   1.4   \n",
              "2                                34.0                                   1.7   \n",
              "3                                45.0                                   0.8   \n",
              "4                                32.0                                   1.0   \n",
              "...                               ...                                   ...   \n",
              "1695                             65.0                                   2.8   \n",
              "1696                             55.0                                   1.3   \n",
              "1697                             36.0                                   1.2   \n",
              "1698                             33.0                                   1.1   \n",
              "1699                             56.0                                   0.7   \n",
              "\n",
              "      percentage_of_time_with_abnormal_long_term_variability  ...  \\\n",
              "0                                                   9.0       ...   \n",
              "1                                                   4.0       ...   \n",
              "2                                                   0.0       ...   \n",
              "3                                                   2.0       ...   \n",
              "4                                                   0.0       ...   \n",
              "...                                                 ...       ...   \n",
              "1695                                                0.0       ...   \n",
              "1696                                               10.0       ...   \n",
              "1697                                                0.0       ...   \n",
              "1698                                                0.0       ...   \n",
              "1699                                                0.0       ...   \n",
              "\n",
              "      histogram_width  histogram_min  histogram_max  \\\n",
              "0                20.0          136.0          156.0   \n",
              "1                53.0           91.0          144.0   \n",
              "2               118.0           78.0          196.0   \n",
              "3                29.0          129.0          158.0   \n",
              "4                38.0          122.0          160.0   \n",
              "...               ...            ...            ...   \n",
              "1695            101.0           50.0          151.0   \n",
              "1696            115.0           52.0          167.0   \n",
              "1697             42.0          132.0          174.0   \n",
              "1698             53.0          103.0          156.0   \n",
              "1699             71.0           81.0          152.0   \n",
              "\n",
              "      histogram_number_of_peaks  histogram_number_of_zeroes  histogram_mode  \\\n",
              "0                           0.0                         0.0           148.0   \n",
              "1                           4.0                         0.0           126.0   \n",
              "2                          10.0                         0.0           137.0   \n",
              "3                           2.0                         0.0           144.0   \n",
              "4                           1.0                         0.0           150.0   \n",
              "...                         ...                         ...             ...   \n",
              "1695                        7.0                         2.0           105.0   \n",
              "1696                       15.0                         3.0           148.0   \n",
              "1697                        2.0                         0.0           157.0   \n",
              "1698                        3.0                         0.0           133.0   \n",
              "1699                        4.0                         0.0           127.0   \n",
              "\n",
              "      histogram_mean  histogram_median  histogram_variance  histogram_tendency  \n",
              "0              147.0             149.0                 1.0                 0.0  \n",
              "1              120.0             122.0                 6.0                 0.0  \n",
              "2              136.0             137.0                 6.0                 0.0  \n",
              "3              143.0             145.0                 1.0                 0.0  \n",
              "4              147.0             149.0                 2.0                 1.0  \n",
              "...              ...               ...                 ...                 ...  \n",
              "1695            86.0             112.0                13.0                 0.0  \n",
              "1696           142.0             147.0                20.0                 1.0  \n",
              "1697           157.0             158.0                 2.0                 0.0  \n",
              "1698           133.0             134.0                 4.0                 0.0  \n",
              "1699           129.0             131.0                 4.0                 1.0  \n",
              "\n",
              "[1700 rows x 21 columns]"
            ],
            "text/html": [
              "\n",
              "  <div id=\"df-c034ff4f-fb71-4f9b-b0a2-8ecf831889a1\">\n",
              "    <div class=\"colab-df-container\">\n",
              "      <div>\n",
              "<style scoped>\n",
              "    .dataframe tbody tr th:only-of-type {\n",
              "        vertical-align: middle;\n",
              "    }\n",
              "\n",
              "    .dataframe tbody tr th {\n",
              "        vertical-align: top;\n",
              "    }\n",
              "\n",
              "    .dataframe thead th {\n",
              "        text-align: right;\n",
              "    }\n",
              "</style>\n",
              "<table border=\"1\" class=\"dataframe\">\n",
              "  <thead>\n",
              "    <tr style=\"text-align: right;\">\n",
              "      <th></th>\n",
              "      <th>baseline value</th>\n",
              "      <th>accelerations</th>\n",
              "      <th>fetal_movement</th>\n",
              "      <th>uterine_contractions</th>\n",
              "      <th>light_decelerations</th>\n",
              "      <th>severe_decelerations</th>\n",
              "      <th>prolongued_decelerations</th>\n",
              "      <th>abnormal_short_term_variability</th>\n",
              "      <th>mean_value_of_short_term_variability</th>\n",
              "      <th>percentage_of_time_with_abnormal_long_term_variability</th>\n",
              "      <th>...</th>\n",
              "      <th>histogram_width</th>\n",
              "      <th>histogram_min</th>\n",
              "      <th>histogram_max</th>\n",
              "      <th>histogram_number_of_peaks</th>\n",
              "      <th>histogram_number_of_zeroes</th>\n",
              "      <th>histogram_mode</th>\n",
              "      <th>histogram_mean</th>\n",
              "      <th>histogram_median</th>\n",
              "      <th>histogram_variance</th>\n",
              "      <th>histogram_tendency</th>\n",
              "    </tr>\n",
              "  </thead>\n",
              "  <tbody>\n",
              "    <tr>\n",
              "      <th>0</th>\n",
              "      <td>142.0</td>\n",
              "      <td>0.000</td>\n",
              "      <td>0.000</td>\n",
              "      <td>0.007</td>\n",
              "      <td>0.000</td>\n",
              "      <td>0.0</td>\n",
              "      <td>0.000</td>\n",
              "      <td>58.0</td>\n",
              "      <td>0.4</td>\n",
              "      <td>9.0</td>\n",
              "      <td>...</td>\n",
              "      <td>20.0</td>\n",
              "      <td>136.0</td>\n",
              "      <td>156.0</td>\n",
              "      <td>0.0</td>\n",
              "      <td>0.0</td>\n",
              "      <td>148.0</td>\n",
              "      <td>147.0</td>\n",
              "      <td>149.0</td>\n",
              "      <td>1.0</td>\n",
              "      <td>0.0</td>\n",
              "    </tr>\n",
              "    <tr>\n",
              "      <th>1</th>\n",
              "      <td>122.0</td>\n",
              "      <td>0.000</td>\n",
              "      <td>0.000</td>\n",
              "      <td>0.006</td>\n",
              "      <td>0.002</td>\n",
              "      <td>0.0</td>\n",
              "      <td>0.000</td>\n",
              "      <td>27.0</td>\n",
              "      <td>1.4</td>\n",
              "      <td>4.0</td>\n",
              "      <td>...</td>\n",
              "      <td>53.0</td>\n",
              "      <td>91.0</td>\n",
              "      <td>144.0</td>\n",
              "      <td>4.0</td>\n",
              "      <td>0.0</td>\n",
              "      <td>126.0</td>\n",
              "      <td>120.0</td>\n",
              "      <td>122.0</td>\n",
              "      <td>6.0</td>\n",
              "      <td>0.0</td>\n",
              "    </tr>\n",
              "    <tr>\n",
              "      <th>2</th>\n",
              "      <td>129.0</td>\n",
              "      <td>0.005</td>\n",
              "      <td>0.003</td>\n",
              "      <td>0.001</td>\n",
              "      <td>0.000</td>\n",
              "      <td>0.0</td>\n",
              "      <td>0.000</td>\n",
              "      <td>34.0</td>\n",
              "      <td>1.7</td>\n",
              "      <td>0.0</td>\n",
              "      <td>...</td>\n",
              "      <td>118.0</td>\n",
              "      <td>78.0</td>\n",
              "      <td>196.0</td>\n",
              "      <td>10.0</td>\n",
              "      <td>0.0</td>\n",
              "      <td>137.0</td>\n",
              "      <td>136.0</td>\n",
              "      <td>137.0</td>\n",
              "      <td>6.0</td>\n",
              "      <td>0.0</td>\n",
              "    </tr>\n",
              "    <tr>\n",
              "      <th>3</th>\n",
              "      <td>136.0</td>\n",
              "      <td>0.006</td>\n",
              "      <td>0.000</td>\n",
              "      <td>0.008</td>\n",
              "      <td>0.000</td>\n",
              "      <td>0.0</td>\n",
              "      <td>0.000</td>\n",
              "      <td>45.0</td>\n",
              "      <td>0.8</td>\n",
              "      <td>2.0</td>\n",
              "      <td>...</td>\n",
              "      <td>29.0</td>\n",
              "      <td>129.0</td>\n",
              "      <td>158.0</td>\n",
              "      <td>2.0</td>\n",
              "      <td>0.0</td>\n",
              "      <td>144.0</td>\n",
              "      <td>143.0</td>\n",
              "      <td>145.0</td>\n",
              "      <td>1.0</td>\n",
              "      <td>0.0</td>\n",
              "    </tr>\n",
              "    <tr>\n",
              "      <th>4</th>\n",
              "      <td>144.0</td>\n",
              "      <td>0.000</td>\n",
              "      <td>0.000</td>\n",
              "      <td>0.006</td>\n",
              "      <td>0.000</td>\n",
              "      <td>0.0</td>\n",
              "      <td>0.000</td>\n",
              "      <td>32.0</td>\n",
              "      <td>1.0</td>\n",
              "      <td>0.0</td>\n",
              "      <td>...</td>\n",
              "      <td>38.0</td>\n",
              "      <td>122.0</td>\n",
              "      <td>160.0</td>\n",
              "      <td>1.0</td>\n",
              "      <td>0.0</td>\n",
              "      <td>150.0</td>\n",
              "      <td>147.0</td>\n",
              "      <td>149.0</td>\n",
              "      <td>2.0</td>\n",
              "      <td>1.0</td>\n",
              "    </tr>\n",
              "    <tr>\n",
              "      <th>...</th>\n",
              "      <td>...</td>\n",
              "      <td>...</td>\n",
              "      <td>...</td>\n",
              "      <td>...</td>\n",
              "      <td>...</td>\n",
              "      <td>...</td>\n",
              "      <td>...</td>\n",
              "      <td>...</td>\n",
              "      <td>...</td>\n",
              "      <td>...</td>\n",
              "      <td>...</td>\n",
              "      <td>...</td>\n",
              "      <td>...</td>\n",
              "      <td>...</td>\n",
              "      <td>...</td>\n",
              "      <td>...</td>\n",
              "      <td>...</td>\n",
              "      <td>...</td>\n",
              "      <td>...</td>\n",
              "      <td>...</td>\n",
              "      <td>...</td>\n",
              "    </tr>\n",
              "    <tr>\n",
              "      <th>1695</th>\n",
              "      <td>129.0</td>\n",
              "      <td>0.000</td>\n",
              "      <td>0.001</td>\n",
              "      <td>0.006</td>\n",
              "      <td>0.008</td>\n",
              "      <td>0.0</td>\n",
              "      <td>0.002</td>\n",
              "      <td>65.0</td>\n",
              "      <td>2.8</td>\n",
              "      <td>0.0</td>\n",
              "      <td>...</td>\n",
              "      <td>101.0</td>\n",
              "      <td>50.0</td>\n",
              "      <td>151.0</td>\n",
              "      <td>7.0</td>\n",
              "      <td>2.0</td>\n",
              "      <td>105.0</td>\n",
              "      <td>86.0</td>\n",
              "      <td>112.0</td>\n",
              "      <td>13.0</td>\n",
              "      <td>0.0</td>\n",
              "    </tr>\n",
              "    <tr>\n",
              "      <th>1696</th>\n",
              "      <td>142.0</td>\n",
              "      <td>0.001</td>\n",
              "      <td>0.003</td>\n",
              "      <td>0.001</td>\n",
              "      <td>0.002</td>\n",
              "      <td>0.0</td>\n",
              "      <td>0.000</td>\n",
              "      <td>55.0</td>\n",
              "      <td>1.3</td>\n",
              "      <td>10.0</td>\n",
              "      <td>...</td>\n",
              "      <td>115.0</td>\n",
              "      <td>52.0</td>\n",
              "      <td>167.0</td>\n",
              "      <td>15.0</td>\n",
              "      <td>3.0</td>\n",
              "      <td>148.0</td>\n",
              "      <td>142.0</td>\n",
              "      <td>147.0</td>\n",
              "      <td>20.0</td>\n",
              "      <td>1.0</td>\n",
              "    </tr>\n",
              "    <tr>\n",
              "      <th>1697</th>\n",
              "      <td>147.0</td>\n",
              "      <td>0.013</td>\n",
              "      <td>0.000</td>\n",
              "      <td>0.010</td>\n",
              "      <td>0.000</td>\n",
              "      <td>0.0</td>\n",
              "      <td>0.000</td>\n",
              "      <td>36.0</td>\n",
              "      <td>1.2</td>\n",
              "      <td>0.0</td>\n",
              "      <td>...</td>\n",
              "      <td>42.0</td>\n",
              "      <td>132.0</td>\n",
              "      <td>174.0</td>\n",
              "      <td>2.0</td>\n",
              "      <td>0.0</td>\n",
              "      <td>157.0</td>\n",
              "      <td>157.0</td>\n",
              "      <td>158.0</td>\n",
              "      <td>2.0</td>\n",
              "      <td>0.0</td>\n",
              "    </tr>\n",
              "    <tr>\n",
              "      <th>1698</th>\n",
              "      <td>130.0</td>\n",
              "      <td>0.003</td>\n",
              "      <td>0.000</td>\n",
              "      <td>0.007</td>\n",
              "      <td>0.000</td>\n",
              "      <td>0.0</td>\n",
              "      <td>0.000</td>\n",
              "      <td>33.0</td>\n",
              "      <td>1.1</td>\n",
              "      <td>0.0</td>\n",
              "      <td>...</td>\n",
              "      <td>53.0</td>\n",
              "      <td>103.0</td>\n",
              "      <td>156.0</td>\n",
              "      <td>3.0</td>\n",
              "      <td>0.0</td>\n",
              "      <td>133.0</td>\n",
              "      <td>133.0</td>\n",
              "      <td>134.0</td>\n",
              "      <td>4.0</td>\n",
              "      <td>0.0</td>\n",
              "    </tr>\n",
              "    <tr>\n",
              "      <th>1699</th>\n",
              "      <td>123.0</td>\n",
              "      <td>0.004</td>\n",
              "      <td>0.007</td>\n",
              "      <td>0.000</td>\n",
              "      <td>0.000</td>\n",
              "      <td>0.0</td>\n",
              "      <td>0.000</td>\n",
              "      <td>56.0</td>\n",
              "      <td>0.7</td>\n",
              "      <td>0.0</td>\n",
              "      <td>...</td>\n",
              "      <td>71.0</td>\n",
              "      <td>81.0</td>\n",
              "      <td>152.0</td>\n",
              "      <td>4.0</td>\n",
              "      <td>0.0</td>\n",
              "      <td>127.0</td>\n",
              "      <td>129.0</td>\n",
              "      <td>131.0</td>\n",
              "      <td>4.0</td>\n",
              "      <td>1.0</td>\n",
              "    </tr>\n",
              "  </tbody>\n",
              "</table>\n",
              "<p>1700 rows × 21 columns</p>\n",
              "</div>\n",
              "      <button class=\"colab-df-convert\" onclick=\"convertToInteractive('df-c034ff4f-fb71-4f9b-b0a2-8ecf831889a1')\"\n",
              "              title=\"Convert this dataframe to an interactive table.\"\n",
              "              style=\"display:none;\">\n",
              "        \n",
              "  <svg xmlns=\"http://www.w3.org/2000/svg\" height=\"24px\"viewBox=\"0 0 24 24\"\n",
              "       width=\"24px\">\n",
              "    <path d=\"M0 0h24v24H0V0z\" fill=\"none\"/>\n",
              "    <path d=\"M18.56 5.44l.94 2.06.94-2.06 2.06-.94-2.06-.94-.94-2.06-.94 2.06-2.06.94zm-11 1L8.5 8.5l.94-2.06 2.06-.94-2.06-.94L8.5 2.5l-.94 2.06-2.06.94zm10 10l.94 2.06.94-2.06 2.06-.94-2.06-.94-.94-2.06-.94 2.06-2.06.94z\"/><path d=\"M17.41 7.96l-1.37-1.37c-.4-.4-.92-.59-1.43-.59-.52 0-1.04.2-1.43.59L10.3 9.45l-7.72 7.72c-.78.78-.78 2.05 0 2.83L4 21.41c.39.39.9.59 1.41.59.51 0 1.02-.2 1.41-.59l7.78-7.78 2.81-2.81c.8-.78.8-2.07 0-2.86zM5.41 20L4 18.59l7.72-7.72 1.47 1.35L5.41 20z\"/>\n",
              "  </svg>\n",
              "      </button>\n",
              "      \n",
              "  <style>\n",
              "    .colab-df-container {\n",
              "      display:flex;\n",
              "      flex-wrap:wrap;\n",
              "      gap: 12px;\n",
              "    }\n",
              "\n",
              "    .colab-df-convert {\n",
              "      background-color: #E8F0FE;\n",
              "      border: none;\n",
              "      border-radius: 50%;\n",
              "      cursor: pointer;\n",
              "      display: none;\n",
              "      fill: #1967D2;\n",
              "      height: 32px;\n",
              "      padding: 0 0 0 0;\n",
              "      width: 32px;\n",
              "    }\n",
              "\n",
              "    .colab-df-convert:hover {\n",
              "      background-color: #E2EBFA;\n",
              "      box-shadow: 0px 1px 2px rgba(60, 64, 67, 0.3), 0px 1px 3px 1px rgba(60, 64, 67, 0.15);\n",
              "      fill: #174EA6;\n",
              "    }\n",
              "\n",
              "    [theme=dark] .colab-df-convert {\n",
              "      background-color: #3B4455;\n",
              "      fill: #D2E3FC;\n",
              "    }\n",
              "\n",
              "    [theme=dark] .colab-df-convert:hover {\n",
              "      background-color: #434B5C;\n",
              "      box-shadow: 0px 1px 3px 1px rgba(0, 0, 0, 0.15);\n",
              "      filter: drop-shadow(0px 1px 2px rgba(0, 0, 0, 0.3));\n",
              "      fill: #FFFFFF;\n",
              "    }\n",
              "  </style>\n",
              "\n",
              "      <script>\n",
              "        const buttonEl =\n",
              "          document.querySelector('#df-c034ff4f-fb71-4f9b-b0a2-8ecf831889a1 button.colab-df-convert');\n",
              "        buttonEl.style.display =\n",
              "          google.colab.kernel.accessAllowed ? 'block' : 'none';\n",
              "\n",
              "        async function convertToInteractive(key) {\n",
              "          const element = document.querySelector('#df-c034ff4f-fb71-4f9b-b0a2-8ecf831889a1');\n",
              "          const dataTable =\n",
              "            await google.colab.kernel.invokeFunction('convertToInteractive',\n",
              "                                                     [key], {});\n",
              "          if (!dataTable) return;\n",
              "\n",
              "          const docLinkHtml = 'Like what you see? Visit the ' +\n",
              "            '<a target=\"_blank\" href=https://colab.research.google.com/notebooks/data_table.ipynb>data table notebook</a>'\n",
              "            + ' to learn more about interactive tables.';\n",
              "          element.innerHTML = '';\n",
              "          dataTable['output_type'] = 'display_data';\n",
              "          await google.colab.output.renderOutput(dataTable, element);\n",
              "          const docLink = document.createElement('div');\n",
              "          docLink.innerHTML = docLinkHtml;\n",
              "          element.appendChild(docLink);\n",
              "        }\n",
              "      </script>\n",
              "    </div>\n",
              "  </div>\n",
              "  "
            ]
          },
          "metadata": {},
          "execution_count": 70
        }
      ],
      "source": [
        "X"
      ]
    },
    {
      "cell_type": "code",
      "execution_count": null,
      "id": "87843a17",
      "metadata": {
        "execution": {
          "iopub.execute_input": "2022-10-20T04:16:38.249599Z",
          "iopub.status.busy": "2022-10-20T04:16:38.249099Z",
          "iopub.status.idle": "2022-10-20T04:16:38.255261Z",
          "shell.execute_reply": "2022-10-20T04:16:38.254024Z"
        },
        "papermill": {
          "duration": 0.024438,
          "end_time": "2022-10-20T04:16:38.257609",
          "exception": false,
          "start_time": "2022-10-20T04:16:38.233171",
          "status": "completed"
        },
        "tags": [],
        "id": "87843a17"
      },
      "outputs": [],
      "source": [
        "Y = pd.DataFrame(df.iloc[:,-1:])"
      ]
    },
    {
      "cell_type": "code",
      "execution_count": null,
      "id": "843f99d0",
      "metadata": {
        "execution": {
          "iopub.execute_input": "2022-10-20T04:16:38.288193Z",
          "iopub.status.busy": "2022-10-20T04:16:38.287724Z",
          "iopub.status.idle": "2022-10-20T04:16:38.303372Z",
          "shell.execute_reply": "2022-10-20T04:16:38.302104Z"
        },
        "papermill": {
          "duration": 0.033993,
          "end_time": "2022-10-20T04:16:38.306013",
          "exception": false,
          "start_time": "2022-10-20T04:16:38.272020",
          "status": "completed"
        },
        "tags": [],
        "colab": {
          "base_uri": "https://localhost:8080/",
          "height": 424
        },
        "id": "843f99d0",
        "outputId": "09ea5417-a398-4471-cb7b-1d9c562b912b"
      },
      "outputs": [
        {
          "output_type": "execute_result",
          "data": {
            "text/plain": [
              "      fetal_health\n",
              "0              1.0\n",
              "1              1.0\n",
              "2              1.0\n",
              "3              1.0\n",
              "4              1.0\n",
              "...            ...\n",
              "1695           3.0\n",
              "1696           1.0\n",
              "1697           1.0\n",
              "1698           1.0\n",
              "1699           1.0\n",
              "\n",
              "[1700 rows x 1 columns]"
            ],
            "text/html": [
              "\n",
              "  <div id=\"df-df5602f7-8ce4-4889-8ea2-bacdb5baaad7\">\n",
              "    <div class=\"colab-df-container\">\n",
              "      <div>\n",
              "<style scoped>\n",
              "    .dataframe tbody tr th:only-of-type {\n",
              "        vertical-align: middle;\n",
              "    }\n",
              "\n",
              "    .dataframe tbody tr th {\n",
              "        vertical-align: top;\n",
              "    }\n",
              "\n",
              "    .dataframe thead th {\n",
              "        text-align: right;\n",
              "    }\n",
              "</style>\n",
              "<table border=\"1\" class=\"dataframe\">\n",
              "  <thead>\n",
              "    <tr style=\"text-align: right;\">\n",
              "      <th></th>\n",
              "      <th>fetal_health</th>\n",
              "    </tr>\n",
              "  </thead>\n",
              "  <tbody>\n",
              "    <tr>\n",
              "      <th>0</th>\n",
              "      <td>1.0</td>\n",
              "    </tr>\n",
              "    <tr>\n",
              "      <th>1</th>\n",
              "      <td>1.0</td>\n",
              "    </tr>\n",
              "    <tr>\n",
              "      <th>2</th>\n",
              "      <td>1.0</td>\n",
              "    </tr>\n",
              "    <tr>\n",
              "      <th>3</th>\n",
              "      <td>1.0</td>\n",
              "    </tr>\n",
              "    <tr>\n",
              "      <th>4</th>\n",
              "      <td>1.0</td>\n",
              "    </tr>\n",
              "    <tr>\n",
              "      <th>...</th>\n",
              "      <td>...</td>\n",
              "    </tr>\n",
              "    <tr>\n",
              "      <th>1695</th>\n",
              "      <td>3.0</td>\n",
              "    </tr>\n",
              "    <tr>\n",
              "      <th>1696</th>\n",
              "      <td>1.0</td>\n",
              "    </tr>\n",
              "    <tr>\n",
              "      <th>1697</th>\n",
              "      <td>1.0</td>\n",
              "    </tr>\n",
              "    <tr>\n",
              "      <th>1698</th>\n",
              "      <td>1.0</td>\n",
              "    </tr>\n",
              "    <tr>\n",
              "      <th>1699</th>\n",
              "      <td>1.0</td>\n",
              "    </tr>\n",
              "  </tbody>\n",
              "</table>\n",
              "<p>1700 rows × 1 columns</p>\n",
              "</div>\n",
              "      <button class=\"colab-df-convert\" onclick=\"convertToInteractive('df-df5602f7-8ce4-4889-8ea2-bacdb5baaad7')\"\n",
              "              title=\"Convert this dataframe to an interactive table.\"\n",
              "              style=\"display:none;\">\n",
              "        \n",
              "  <svg xmlns=\"http://www.w3.org/2000/svg\" height=\"24px\"viewBox=\"0 0 24 24\"\n",
              "       width=\"24px\">\n",
              "    <path d=\"M0 0h24v24H0V0z\" fill=\"none\"/>\n",
              "    <path d=\"M18.56 5.44l.94 2.06.94-2.06 2.06-.94-2.06-.94-.94-2.06-.94 2.06-2.06.94zm-11 1L8.5 8.5l.94-2.06 2.06-.94-2.06-.94L8.5 2.5l-.94 2.06-2.06.94zm10 10l.94 2.06.94-2.06 2.06-.94-2.06-.94-.94-2.06-.94 2.06-2.06.94z\"/><path d=\"M17.41 7.96l-1.37-1.37c-.4-.4-.92-.59-1.43-.59-.52 0-1.04.2-1.43.59L10.3 9.45l-7.72 7.72c-.78.78-.78 2.05 0 2.83L4 21.41c.39.39.9.59 1.41.59.51 0 1.02-.2 1.41-.59l7.78-7.78 2.81-2.81c.8-.78.8-2.07 0-2.86zM5.41 20L4 18.59l7.72-7.72 1.47 1.35L5.41 20z\"/>\n",
              "  </svg>\n",
              "      </button>\n",
              "      \n",
              "  <style>\n",
              "    .colab-df-container {\n",
              "      display:flex;\n",
              "      flex-wrap:wrap;\n",
              "      gap: 12px;\n",
              "    }\n",
              "\n",
              "    .colab-df-convert {\n",
              "      background-color: #E8F0FE;\n",
              "      border: none;\n",
              "      border-radius: 50%;\n",
              "      cursor: pointer;\n",
              "      display: none;\n",
              "      fill: #1967D2;\n",
              "      height: 32px;\n",
              "      padding: 0 0 0 0;\n",
              "      width: 32px;\n",
              "    }\n",
              "\n",
              "    .colab-df-convert:hover {\n",
              "      background-color: #E2EBFA;\n",
              "      box-shadow: 0px 1px 2px rgba(60, 64, 67, 0.3), 0px 1px 3px 1px rgba(60, 64, 67, 0.15);\n",
              "      fill: #174EA6;\n",
              "    }\n",
              "\n",
              "    [theme=dark] .colab-df-convert {\n",
              "      background-color: #3B4455;\n",
              "      fill: #D2E3FC;\n",
              "    }\n",
              "\n",
              "    [theme=dark] .colab-df-convert:hover {\n",
              "      background-color: #434B5C;\n",
              "      box-shadow: 0px 1px 3px 1px rgba(0, 0, 0, 0.15);\n",
              "      filter: drop-shadow(0px 1px 2px rgba(0, 0, 0, 0.3));\n",
              "      fill: #FFFFFF;\n",
              "    }\n",
              "  </style>\n",
              "\n",
              "      <script>\n",
              "        const buttonEl =\n",
              "          document.querySelector('#df-df5602f7-8ce4-4889-8ea2-bacdb5baaad7 button.colab-df-convert');\n",
              "        buttonEl.style.display =\n",
              "          google.colab.kernel.accessAllowed ? 'block' : 'none';\n",
              "\n",
              "        async function convertToInteractive(key) {\n",
              "          const element = document.querySelector('#df-df5602f7-8ce4-4889-8ea2-bacdb5baaad7');\n",
              "          const dataTable =\n",
              "            await google.colab.kernel.invokeFunction('convertToInteractive',\n",
              "                                                     [key], {});\n",
              "          if (!dataTable) return;\n",
              "\n",
              "          const docLinkHtml = 'Like what you see? Visit the ' +\n",
              "            '<a target=\"_blank\" href=https://colab.research.google.com/notebooks/data_table.ipynb>data table notebook</a>'\n",
              "            + ' to learn more about interactive tables.';\n",
              "          element.innerHTML = '';\n",
              "          dataTable['output_type'] = 'display_data';\n",
              "          await google.colab.output.renderOutput(dataTable, element);\n",
              "          const docLink = document.createElement('div');\n",
              "          docLink.innerHTML = docLinkHtml;\n",
              "          element.appendChild(docLink);\n",
              "        }\n",
              "      </script>\n",
              "    </div>\n",
              "  </div>\n",
              "  "
            ]
          },
          "metadata": {},
          "execution_count": 72
        }
      ],
      "source": [
        "Y"
      ]
    },
    {
      "cell_type": "markdown",
      "id": "97b5a8e5",
      "metadata": {
        "papermill": {
          "duration": 0.016453,
          "end_time": "2022-10-20T04:16:42.261047",
          "exception": false,
          "start_time": "2022-10-20T04:16:42.244594",
          "status": "completed"
        },
        "tags": [],
        "id": "97b5a8e5"
      },
      "source": [
        "# Data Pre-processing"
      ]
    },
    {
      "cell_type": "code",
      "execution_count": null,
      "id": "06bc062b",
      "metadata": {
        "execution": {
          "iopub.execute_input": "2022-10-20T04:16:42.296054Z",
          "iopub.status.busy": "2022-10-20T04:16:42.295291Z",
          "iopub.status.idle": "2022-10-20T04:16:42.305418Z",
          "shell.execute_reply": "2022-10-20T04:16:42.303988Z"
        },
        "papermill": {
          "duration": 0.030819,
          "end_time": "2022-10-20T04:16:42.308257",
          "exception": false,
          "start_time": "2022-10-20T04:16:42.277438",
          "status": "completed"
        },
        "tags": [],
        "colab": {
          "base_uri": "https://localhost:8080/"
        },
        "id": "06bc062b",
        "outputId": "3024cff1-e964-4387-936a-7899b909ef08"
      },
      "outputs": [
        {
          "output_type": "execute_result",
          "data": {
            "text/plain": [
              "baseline value                                            0\n",
              "accelerations                                             0\n",
              "fetal_movement                                            0\n",
              "uterine_contractions                                      0\n",
              "light_decelerations                                       0\n",
              "severe_decelerations                                      0\n",
              "prolongued_decelerations                                  0\n",
              "abnormal_short_term_variability                           0\n",
              "mean_value_of_short_term_variability                      0\n",
              "percentage_of_time_with_abnormal_long_term_variability    0\n",
              "mean_value_of_long_term_variability                       0\n",
              "histogram_width                                           0\n",
              "histogram_min                                             0\n",
              "histogram_max                                             0\n",
              "histogram_number_of_peaks                                 0\n",
              "histogram_number_of_zeroes                                0\n",
              "histogram_mode                                            0\n",
              "histogram_mean                                            0\n",
              "histogram_median                                          0\n",
              "histogram_variance                                        0\n",
              "histogram_tendency                                        0\n",
              "fetal_health                                              0\n",
              "dtype: int64"
            ]
          },
          "metadata": {},
          "execution_count": 74
        }
      ],
      "source": [
        "# handling missing values\n",
        "df.isnull().sum()  #No null values"
      ]
    },
    {
      "cell_type": "code",
      "execution_count": null,
      "id": "f41d1e49",
      "metadata": {
        "execution": {
          "iopub.execute_input": "2022-10-20T04:16:42.342764Z",
          "iopub.status.busy": "2022-10-20T04:16:42.342036Z",
          "iopub.status.idle": "2022-10-20T04:16:42.363735Z",
          "shell.execute_reply": "2022-10-20T04:16:42.361893Z"
        },
        "papermill": {
          "duration": 0.042382,
          "end_time": "2022-10-20T04:16:42.366835",
          "exception": false,
          "start_time": "2022-10-20T04:16:42.324453",
          "status": "completed"
        },
        "tags": [],
        "colab": {
          "base_uri": "https://localhost:8080/"
        },
        "id": "f41d1e49",
        "outputId": "c8286a5a-bd96-4499-b013-36940cd70fe1"
      },
      "outputs": [
        {
          "output_type": "stream",
          "name": "stdout",
          "text": [
            "False    1693\n",
            "True        7\n",
            "dtype: int64\n"
          ]
        }
      ],
      "source": [
        "# To check duplicated values\n",
        "print(df.duplicated().value_counts()) "
      ]
    },
    {
      "cell_type": "markdown",
      "id": "58ddd053",
      "metadata": {
        "papermill": {
          "duration": 0.016556,
          "end_time": "2022-10-20T04:16:42.399588",
          "exception": false,
          "start_time": "2022-10-20T04:16:42.383032",
          "status": "completed"
        },
        "tags": [],
        "id": "58ddd053"
      },
      "source": [
        "# Dealing class imbalance"
      ]
    },
    {
      "cell_type": "code",
      "execution_count": null,
      "id": "8deccc4b",
      "metadata": {
        "execution": {
          "iopub.execute_input": "2022-10-20T04:16:42.433409Z",
          "iopub.status.busy": "2022-10-20T04:16:42.432940Z",
          "iopub.status.idle": "2022-10-20T04:16:42.825774Z",
          "shell.execute_reply": "2022-10-20T04:16:42.824715Z"
        },
        "papermill": {
          "duration": 0.412976,
          "end_time": "2022-10-20T04:16:42.828498",
          "exception": false,
          "start_time": "2022-10-20T04:16:42.415522",
          "status": "completed"
        },
        "tags": [],
        "colab": {
          "base_uri": "https://localhost:8080/",
          "height": 498
        },
        "id": "8deccc4b",
        "outputId": "683c3c59-3efc-4600-b0fb-c857d434330c"
      },
      "outputs": [
        {
          "output_type": "display_data",
          "data": {
            "text/plain": [
              "<Figure size 720x576 with 1 Axes>"
            ],
            "image/png": "[encoded data removed]"
          },
          "metadata": {
            "needs_background": "light"
          }
        }
      ],
      "source": [
        "# To check class imbalance\n",
        "\n",
        "import seaborn as sns\n",
        "plt.rcParams[\"figure.figsize\"] = (10, 8)\n",
        "df['fetal_health'].value_counts()\n",
        "sns.countplot(x='fetal_health', data=df)\n",
        "plt.show()"
      ]
    },
    {
      "cell_type": "code",
      "execution_count": null,
      "id": "c796153c",
      "metadata": {
        "execution": {
          "iopub.execute_input": "2022-10-20T04:16:42.863428Z",
          "iopub.status.busy": "2022-10-20T04:16:42.862181Z",
          "iopub.status.idle": "2022-10-20T04:16:43.308003Z",
          "shell.execute_reply": "2022-10-20T04:16:43.306350Z"
        },
        "papermill": {
          "duration": 0.467504,
          "end_time": "2022-10-20T04:16:43.312144",
          "exception": false,
          "start_time": "2022-10-20T04:16:42.844640",
          "status": "completed"
        },
        "tags": [],
        "id": "c796153c"
      },
      "outputs": [],
      "source": [
        "# To deal with class imbalance\n",
        "from imblearn.over_sampling import SMOTE\n",
        "from sklearn.model_selection import train_test_split\n",
        "os = SMOTE(random_state=0)\n",
        "X_class_train, X_test, y_class_train, y_test = train_test_split(X, Y, test_size=0.3, random_state=0)\n",
        "columns = X_class_train.columns\n",
        "data_X, data_y = os.fit_resample(X_class_train, y_class_train)\n",
        "smoted_X = pd.DataFrame(data=data_X,columns=columns )\n",
        "smoted_y= pd.DataFrame(data=data_y,columns=['fetal_health'])\n",
        "X = smoted_X\n",
        "Y = smoted_y"
      ]
    },
    {
      "cell_type": "markdown",
      "id": "54b741fb",
      "metadata": {
        "papermill": {
          "duration": 0.025624,
          "end_time": "2022-10-20T04:16:43.364930",
          "exception": false,
          "start_time": "2022-10-20T04:16:43.339306",
          "status": "completed"
        },
        "tags": [],
        "id": "54b741fb"
      },
      "source": [
        "# Making training data ready"
      ]
    },
    {
      "cell_type": "code",
      "execution_count": null,
      "id": "006588df",
      "metadata": {
        "execution": {
          "iopub.execute_input": "2022-10-20T04:16:43.418385Z",
          "iopub.status.busy": "2022-10-20T04:16:43.417949Z",
          "iopub.status.idle": "2022-10-20T04:16:43.437029Z",
          "shell.execute_reply": "2022-10-20T04:16:43.435729Z"
        },
        "papermill": {
          "duration": 0.04897,
          "end_time": "2022-10-20T04:16:43.440255",
          "exception": false,
          "start_time": "2022-10-20T04:16:43.391285",
          "status": "completed"
        },
        "tags": [],
        "id": "006588df"
      },
      "outputs": [],
      "source": [
        "# splitting data into train test data\n",
        "from sklearn.neural_network import MLPRegressor\n",
        "from sklearn.model_selection import train_test_split\n",
        "X_train, X_test, y_train, y_test = train_test_split(X, Y,random_state=1, test_size=0.2)"
      ]
    },
    {
      "cell_type": "code",
      "execution_count": null,
      "id": "42a93e23",
      "metadata": {
        "execution": {
          "iopub.execute_input": "2022-10-20T04:16:43.476088Z",
          "iopub.status.busy": "2022-10-20T04:16:43.475173Z",
          "iopub.status.idle": "2022-10-20T04:16:43.491412Z",
          "shell.execute_reply": "2022-10-20T04:16:43.490305Z"
        },
        "papermill": {
          "duration": 0.037885,
          "end_time": "2022-10-20T04:16:43.494532",
          "exception": false,
          "start_time": "2022-10-20T04:16:43.456647",
          "status": "completed"
        },
        "tags": [],
        "id": "42a93e23"
      },
      "outputs": [],
      "source": [
        "# To scale our data\n",
        "sc_X = StandardScaler()\n",
        "sc_X.fit(X_train)\n",
        "X_trainscaled=sc_X.fit_transform(X_train)\n",
        "X_testscaled=sc_X.transform(X_test)"
      ]
    },
    {
      "cell_type": "code",
      "execution_count": null,
      "id": "773921da",
      "metadata": {
        "execution": {
          "iopub.execute_input": "2022-10-20T04:16:43.531243Z",
          "iopub.status.busy": "2022-10-20T04:16:43.530326Z",
          "iopub.status.idle": "2022-10-20T04:16:43.537066Z",
          "shell.execute_reply": "2022-10-20T04:16:43.535736Z"
        },
        "papermill": {
          "duration": 0.027463,
          "end_time": "2022-10-20T04:16:43.539892",
          "exception": false,
          "start_time": "2022-10-20T04:16:43.512429",
          "status": "completed"
        },
        "tags": [],
        "id": "773921da"
      },
      "outputs": [],
      "source": [
        "# To get the columns name to make the scaled output as data frame,\n",
        "columns_value_new=X_train.columns\n",
        "test_X_Scaled_Except = pd.DataFrame(X_trainscaled, columns=columns_value_new)"
      ]
    },
    {
      "cell_type": "code",
      "execution_count": null,
      "id": "ee1b0149",
      "metadata": {
        "execution": {
          "iopub.execute_input": "2022-10-20T04:16:43.575834Z",
          "iopub.status.busy": "2022-10-20T04:16:43.574480Z",
          "iopub.status.idle": "2022-10-20T04:16:46.472046Z",
          "shell.execute_reply": "2022-10-20T04:16:46.470667Z"
        },
        "papermill": {
          "duration": 2.922185,
          "end_time": "2022-10-20T04:16:46.478644",
          "exception": false,
          "start_time": "2022-10-20T04:16:43.556459",
          "status": "completed"
        },
        "tags": [],
        "colab": {
          "base_uri": "https://localhost:8080/",
          "height": 442
        },
        "id": "ee1b0149",
        "outputId": "7ee68e97-97c0-41f4-9525-f5ee33c14beb"
      },
      "outputs": [
        {
          "output_type": "display_data",
          "data": {
            "text/plain": [
              "<Figure size 1728x576 with 2 Axes>"
            ],
            "image/png": "[encoded data removed]"
          },
          "metadata": {
            "needs_background": "light"
          }
        }
      ],
      "source": [
        "# Identify significant and independent features using correlation matrix without target variable\n",
        "import seaborn as sns\n",
        "plt.rcParams[\"figure.figsize\"] = (24, 8)\n",
        "sns.heatmap(test_X_Scaled_Except.corr(),annot=True);"
      ]
    },
    {
      "cell_type": "code",
      "execution_count": null,
      "id": "fd630898",
      "metadata": {
        "execution": {
          "iopub.execute_input": "2022-10-20T04:16:46.523185Z",
          "iopub.status.busy": "2022-10-20T04:16:46.522674Z",
          "iopub.status.idle": "2022-10-20T04:16:46.623347Z",
          "shell.execute_reply": "2022-10-20T04:16:46.621868Z"
        },
        "papermill": {
          "duration": 0.12734,
          "end_time": "2022-10-20T04:16:46.627525",
          "exception": false,
          "start_time": "2022-10-20T04:16:46.500185",
          "status": "completed"
        },
        "tags": [],
        "id": "fd630898"
      },
      "outputs": [],
      "source": [
        "# Doing PCA\n",
        "\n",
        "from sklearn.decomposition import PCA\n",
        "PCA_data_train =X_trainscaled\n",
        "PCA_data_test =X_testscaled\n",
        "pca = PCA(n_components=15)\n",
        "pca.fit(PCA_data_train)\n",
        "X_pca_train= pca.fit_transform(PCA_data_train) \n",
        "X_pca_test= pca.fit_transform(PCA_data_test) \n",
        "principalDf_train = pd.DataFrame(data = X_pca_train)\n",
        "principalDf_test = pd.DataFrame(data = X_pca_test)"
      ]
    },
    {
      "cell_type": "code",
      "execution_count": null,
      "id": "c8254c5f",
      "metadata": {
        "execution": {
          "iopub.execute_input": "2022-10-20T04:16:46.738166Z",
          "iopub.status.busy": "2022-10-20T04:16:46.737491Z",
          "iopub.status.idle": "2022-10-20T04:16:46.763302Z",
          "shell.execute_reply": "2022-10-20T04:16:46.761979Z"
        },
        "papermill": {
          "duration": 0.077936,
          "end_time": "2022-10-20T04:16:46.766041",
          "exception": false,
          "start_time": "2022-10-20T04:16:46.688105",
          "status": "completed"
        },
        "tags": [],
        "colab": {
          "base_uri": "https://localhost:8080/",
          "height": 427
        },
        "id": "c8254c5f",
        "outputId": "15d6b416-c590-4ba5-cf81-9b8f438aaa42"
      },
      "outputs": [
        {
          "output_type": "execute_result",
          "data": {
            "text/plain": [
              "         0         1         2         3         4         5         6   \\\n",
              "0  4.234124  2.827806 -0.755669 -1.440425 -0.041888 -0.122032  1.628294   \n",
              "1  7.066344 -0.361798 -2.463016 -1.327941 -1.788738 -0.626329  0.268244   \n",
              "2 -1.542296 -2.418107  1.262548 -0.567463  0.110790 -0.704610 -0.392989   \n",
              "3 -3.466160  0.317957 -1.146668  0.005983 -0.888459 -0.041402 -0.358691   \n",
              "4  1.115951  2.977217  0.251030  0.119182  0.505252  0.109849  0.373345   \n",
              "5 -3.724648 -0.187516 -1.364288 -0.235811  0.176557  0.603551 -0.642028   \n",
              "6  0.255411  1.628739  0.844336 -2.180698  0.782556  0.205355 -0.185759   \n",
              "7  2.391455  2.531305 -0.232917 -1.210255  0.585102  0.228259  1.682093   \n",
              "8 -2.287411 -1.201371 -0.019823  0.081802  0.247282  0.149602 -0.149954   \n",
              "9 -2.903706 -0.029600 -0.891802 -0.593602 -0.404111  0.029406 -0.796857   \n",
              "\n",
              "         7         8         9         10        11        12        13  \\\n",
              "0  0.404509  0.314411 -1.165250  0.728823 -0.049599  1.879658 -1.076532   \n",
              "1 -1.468122 -0.019317 -1.841592  2.058061  0.706785 -1.290468 -0.913205   \n",
              "2  0.203934  0.886335 -0.736161  0.884754 -0.946192 -0.166875  0.418904   \n",
              "3 -0.327426  1.009835  0.033744  0.502204 -0.176019  0.099292  0.434911   \n",
              "4 -0.420964 -1.378531 -0.297953  0.219381 -1.625160  0.723949 -0.952450   \n",
              "5  0.208179  0.352327 -0.268863  0.455514  0.145463  1.181296 -0.005366   \n",
              "6 -0.084794  0.844851 -0.239195 -0.114830  0.351444 -0.204370 -0.165803   \n",
              "7  0.628271 -0.753049 -0.845355 -0.317031 -0.092259  0.506340 -0.466827   \n",
              "8  0.001794 -0.600986 -0.095286 -0.230769  0.160089 -0.252625 -0.149557   \n",
              "9 -0.570885  0.690014 -0.230410  0.149059 -0.721207 -0.175474  0.087872   \n",
              "\n",
              "         14  \n",
              "0  0.290670  \n",
              "1  0.396764  \n",
              "2 -0.162382  \n",
              "3 -0.369757  \n",
              "4 -0.267050  \n",
              "5 -0.414309  \n",
              "6 -0.112671  \n",
              "7 -1.019501  \n",
              "8  0.208772  \n",
              "9  0.021587  "
            ],
            "text/html": [
              "\n",
              "  <div id=\"df-43d75f72-b3ce-41b4-a571-f057fe6795c7\">\n",
              "    <div class=\"colab-df-container\">\n",
              "      <div>\n",
              "<style scoped>\n",
              "    .dataframe tbody tr th:only-of-type {\n",
              "        vertical-align: middle;\n",
              "    }\n",
              "\n",
              "    .dataframe tbody tr th {\n",
              "        vertical-align: top;\n",
              "    }\n",
              "\n",
              "    .dataframe thead th {\n",
              "        text-align: right;\n",
              "    }\n",
              "</style>\n",
              "<table border=\"1\" class=\"dataframe\">\n",
              "  <thead>\n",
              "    <tr style=\"text-align: right;\">\n",
              "      <th></th>\n",
              "      <th>0</th>\n",
              "      <th>1</th>\n",
              "      <th>2</th>\n",
              "      <th>3</th>\n",
              "      <th>4</th>\n",
              "      <th>5</th>\n",
              "      <th>6</th>\n",
              "      <th>7</th>\n",
              "      <th>8</th>\n",
              "      <th>9</th>\n",
              "      <th>10</th>\n",
              "      <th>11</th>\n",
              "      <th>12</th>\n",
              "      <th>13</th>\n",
              "      <th>14</th>\n",
              "    </tr>\n",
              "  </thead>\n",
              "  <tbody>\n",
              "    <tr>\n",
              "      <th>0</th>\n",
              "      <td>4.234124</td>\n",
              "      <td>2.827806</td>\n",
              "      <td>-0.755669</td>\n",
              "      <td>-1.440425</td>\n",
              "      <td>-0.041888</td>\n",
              "      <td>-0.122032</td>\n",
              "      <td>1.628294</td>\n",
              "      <td>0.404509</td>\n",
              "      <td>0.314411</td>\n",
              "      <td>-1.165250</td>\n",
              "      <td>0.728823</td>\n",
              "      <td>-0.049599</td>\n",
              "      <td>1.879658</td>\n",
              "      <td>-1.076532</td>\n",
              "      <td>0.290670</td>\n",
              "    </tr>\n",
              "    <tr>\n",
              "      <th>1</th>\n",
              "      <td>7.066344</td>\n",
              "      <td>-0.361798</td>\n",
              "      <td>-2.463016</td>\n",
              "      <td>-1.327941</td>\n",
              "      <td>-1.788738</td>\n",
              "      <td>-0.626329</td>\n",
              "      <td>0.268244</td>\n",
              "      <td>-1.468122</td>\n",
              "      <td>-0.019317</td>\n",
              "      <td>-1.841592</td>\n",
              "      <td>2.058061</td>\n",
              "      <td>0.706785</td>\n",
              "      <td>-1.290468</td>\n",
              "      <td>-0.913205</td>\n",
              "      <td>0.396764</td>\n",
              "    </tr>\n",
              "    <tr>\n",
              "      <th>2</th>\n",
              "      <td>-1.542296</td>\n",
              "      <td>-2.418107</td>\n",
              "      <td>1.262548</td>\n",
              "      <td>-0.567463</td>\n",
              "      <td>0.110790</td>\n",
              "      <td>-0.704610</td>\n",
              "      <td>-0.392989</td>\n",
              "      <td>0.203934</td>\n",
              "      <td>0.886335</td>\n",
              "      <td>-0.736161</td>\n",
              "      <td>0.884754</td>\n",
              "      <td>-0.946192</td>\n",
              "      <td>-0.166875</td>\n",
              "      <td>0.418904</td>\n",
              "      <td>-0.162382</td>\n",
              "    </tr>\n",
              "    <tr>\n",
              "      <th>3</th>\n",
              "      <td>-3.466160</td>\n",
              "      <td>0.317957</td>\n",
              "      <td>-1.146668</td>\n",
              "      <td>0.005983</td>\n",
              "      <td>-0.888459</td>\n",
              "      <td>-0.041402</td>\n",
              "      <td>-0.358691</td>\n",
              "      <td>-0.327426</td>\n",
              "      <td>1.009835</td>\n",
              "      <td>0.033744</td>\n",
              "      <td>0.502204</td>\n",
              "      <td>-0.176019</td>\n",
              "      <td>0.099292</td>\n",
              "      <td>0.434911</td>\n",
              "      <td>-0.369757</td>\n",
              "    </tr>\n",
              "    <tr>\n",
              "      <th>4</th>\n",
              "      <td>1.115951</td>\n",
              "      <td>2.977217</td>\n",
              "      <td>0.251030</td>\n",
              "      <td>0.119182</td>\n",
              "      <td>0.505252</td>\n",
              "      <td>0.109849</td>\n",
              "      <td>0.373345</td>\n",
              "      <td>-0.420964</td>\n",
              "      <td>-1.378531</td>\n",
              "      <td>-0.297953</td>\n",
              "      <td>0.219381</td>\n",
              "      <td>-1.625160</td>\n",
              "      <td>0.723949</td>\n",
              "      <td>-0.952450</td>\n",
              "      <td>-0.267050</td>\n",
              "    </tr>\n",
              "    <tr>\n",
              "      <th>5</th>\n",
              "      <td>-3.724648</td>\n",
              "      <td>-0.187516</td>\n",
              "      <td>-1.364288</td>\n",
              "      <td>-0.235811</td>\n",
              "      <td>0.176557</td>\n",
              "      <td>0.603551</td>\n",
              "      <td>-0.642028</td>\n",
              "      <td>0.208179</td>\n",
              "      <td>0.352327</td>\n",
              "      <td>-0.268863</td>\n",
              "      <td>0.455514</td>\n",
              "      <td>0.145463</td>\n",
              "      <td>1.181296</td>\n",
              "      <td>-0.005366</td>\n",
              "      <td>-0.414309</td>\n",
              "    </tr>\n",
              "    <tr>\n",
              "      <th>6</th>\n",
              "      <td>0.255411</td>\n",
              "      <td>1.628739</td>\n",
              "      <td>0.844336</td>\n",
              "      <td>-2.180698</td>\n",
              "      <td>0.782556</td>\n",
              "      <td>0.205355</td>\n",
              "      <td>-0.185759</td>\n",
              "      <td>-0.084794</td>\n",
              "      <td>0.844851</td>\n",
              "      <td>-0.239195</td>\n",
              "      <td>-0.114830</td>\n",
              "      <td>0.351444</td>\n",
              "      <td>-0.204370</td>\n",
              "      <td>-0.165803</td>\n",
              "      <td>-0.112671</td>\n",
              "    </tr>\n",
              "    <tr>\n",
              "      <th>7</th>\n",
              "      <td>2.391455</td>\n",
              "      <td>2.531305</td>\n",
              "      <td>-0.232917</td>\n",
              "      <td>-1.210255</td>\n",
              "      <td>0.585102</td>\n",
              "      <td>0.228259</td>\n",
              "      <td>1.682093</td>\n",
              "      <td>0.628271</td>\n",
              "      <td>-0.753049</td>\n",
              "      <td>-0.845355</td>\n",
              "      <td>-0.317031</td>\n",
              "      <td>-0.092259</td>\n",
              "      <td>0.506340</td>\n",
              "      <td>-0.466827</td>\n",
              "      <td>-1.019501</td>\n",
              "    </tr>\n",
              "    <tr>\n",
              "      <th>8</th>\n",
              "      <td>-2.287411</td>\n",
              "      <td>-1.201371</td>\n",
              "      <td>-0.019823</td>\n",
              "      <td>0.081802</td>\n",
              "      <td>0.247282</td>\n",
              "      <td>0.149602</td>\n",
              "      <td>-0.149954</td>\n",
              "      <td>0.001794</td>\n",
              "      <td>-0.600986</td>\n",
              "      <td>-0.095286</td>\n",
              "      <td>-0.230769</td>\n",
              "      <td>0.160089</td>\n",
              "      <td>-0.252625</td>\n",
              "      <td>-0.149557</td>\n",
              "      <td>0.208772</td>\n",
              "    </tr>\n",
              "    <tr>\n",
              "      <th>9</th>\n",
              "      <td>-2.903706</td>\n",
              "      <td>-0.029600</td>\n",
              "      <td>-0.891802</td>\n",
              "      <td>-0.593602</td>\n",
              "      <td>-0.404111</td>\n",
              "      <td>0.029406</td>\n",
              "      <td>-0.796857</td>\n",
              "      <td>-0.570885</td>\n",
              "      <td>0.690014</td>\n",
              "      <td>-0.230410</td>\n",
              "      <td>0.149059</td>\n",
              "      <td>-0.721207</td>\n",
              "      <td>-0.175474</td>\n",
              "      <td>0.087872</td>\n",
              "      <td>0.021587</td>\n",
              "    </tr>\n",
              "  </tbody>\n",
              "</table>\n",
              "</div>\n",
              "      <button class=\"colab-df-convert\" onclick=\"convertToInteractive('df-43d75f72-b3ce-41b4-a571-f057fe6795c7')\"\n",
              "              title=\"Convert this dataframe to an interactive table.\"\n",
              "              style=\"display:none;\">\n",
              "        \n",
              "  <svg xmlns=\"http://www.w3.org/2000/svg\" height=\"24px\"viewBox=\"0 0 24 24\"\n",
              "       width=\"24px\">\n",
              "    <path d=\"M0 0h24v24H0V0z\" fill=\"none\"/>\n",
              "    <path d=\"M18.56 5.44l.94 2.06.94-2.06 2.06-.94-2.06-.94-.94-2.06-.94 2.06-2.06.94zm-11 1L8.5 8.5l.94-2.06 2.06-.94-2.06-.94L8.5 2.5l-.94 2.06-2.06.94zm10 10l.94 2.06.94-2.06 2.06-.94-2.06-.94-.94-2.06-.94 2.06-2.06.94z\"/><path d=\"M17.41 7.96l-1.37-1.37c-.4-.4-.92-.59-1.43-.59-.52 0-1.04.2-1.43.59L10.3 9.45l-7.72 7.72c-.78.78-.78 2.05 0 2.83L4 21.41c.39.39.9.59 1.41.59.51 0 1.02-.2 1.41-.59l7.78-7.78 2.81-2.81c.8-.78.8-2.07 0-2.86zM5.41 20L4 18.59l7.72-7.72 1.47 1.35L5.41 20z\"/>\n",
              "  </svg>\n",
              "      </button>\n",
              "      \n",
              "  <style>\n",
              "    .colab-df-container {\n",
              "      display:flex;\n",
              "      flex-wrap:wrap;\n",
              "      gap: 12px;\n",
              "    }\n",
              "\n",
              "    .colab-df-convert {\n",
              "      background-color: #E8F0FE;\n",
              "      border: none;\n",
              "      border-radius: 50%;\n",
              "      cursor: pointer;\n",
              "      display: none;\n",
              "      fill: #1967D2;\n",
              "      height: 32px;\n",
              "      padding: 0 0 0 0;\n",
              "      width: 32px;\n",
              "    }\n",
              "\n",
              "    .colab-df-convert:hover {\n",
              "      background-color: #E2EBFA;\n",
              "      box-shadow: 0px 1px 2px rgba(60, 64, 67, 0.3), 0px 1px 3px 1px rgba(60, 64, 67, 0.15);\n",
              "      fill: #174EA6;\n",
              "    }\n",
              "\n",
              "    [theme=dark] .colab-df-convert {\n",
              "      background-color: #3B4455;\n",
              "      fill: #D2E3FC;\n",
              "    }\n",
              "\n",
              "    [theme=dark] .colab-df-convert:hover {\n",
              "      background-color: #434B5C;\n",
              "      box-shadow: 0px 1px 3px 1px rgba(0, 0, 0, 0.15);\n",
              "      filter: drop-shadow(0px 1px 2px rgba(0, 0, 0, 0.3));\n",
              "      fill: #FFFFFF;\n",
              "    }\n",
              "  </style>\n",
              "\n",
              "      <script>\n",
              "        const buttonEl =\n",
              "          document.querySelector('#df-43d75f72-b3ce-41b4-a571-f057fe6795c7 button.colab-df-convert');\n",
              "        buttonEl.style.display =\n",
              "          google.colab.kernel.accessAllowed ? 'block' : 'none';\n",
              "\n",
              "        async function convertToInteractive(key) {\n",
              "          const element = document.querySelector('#df-43d75f72-b3ce-41b4-a571-f057fe6795c7');\n",
              "          const dataTable =\n",
              "            await google.colab.kernel.invokeFunction('convertToInteractive',\n",
              "                                                     [key], {});\n",
              "          if (!dataTable) return;\n",
              "\n",
              "          const docLinkHtml = 'Like what you see? Visit the ' +\n",
              "            '<a target=\"_blank\" href=https://colab.research.google.com/notebooks/data_table.ipynb>data table notebook</a>'\n",
              "            + ' to learn more about interactive tables.';\n",
              "          element.innerHTML = '';\n",
              "          dataTable['output_type'] = 'display_data';\n",
              "          await google.colab.output.renderOutput(dataTable, element);\n",
              "          const docLink = document.createElement('div');\n",
              "          docLink.innerHTML = docLinkHtml;\n",
              "          element.appendChild(docLink);\n",
              "        }\n",
              "      </script>\n",
              "    </div>\n",
              "  </div>\n",
              "  "
            ]
          },
          "metadata": {},
          "execution_count": 83
        }
      ],
      "source": [
        "# to check principal df for training\n",
        "principalDf_train.head(10)"
      ]
    },
    {
      "cell_type": "code",
      "execution_count": null,
      "id": "1bb7232c",
      "metadata": {
        "execution": {
          "iopub.execute_input": "2022-10-20T04:16:46.812289Z",
          "iopub.status.busy": "2022-10-20T04:16:46.811331Z",
          "iopub.status.idle": "2022-10-20T04:16:49.365186Z",
          "shell.execute_reply": "2022-10-20T04:16:49.363795Z"
        },
        "papermill": {
          "duration": 2.580561,
          "end_time": "2022-10-20T04:16:49.368233",
          "exception": false,
          "start_time": "2022-10-20T04:16:46.787672",
          "status": "completed"
        },
        "tags": [],
        "colab": {
          "base_uri": "https://localhost:8080/",
          "height": 744
        },
        "id": "1bb7232c",
        "outputId": "4f408c3e-2dbc-4d47-f234-455620278cb6"
      },
      "outputs": [
        {
          "output_type": "execute_result",
          "data": {
            "text/plain": [
              "array([[<matplotlib.axes._subplots.AxesSubplot object at 0x7f35d9988c50>,\n",
              "        <matplotlib.axes._subplots.AxesSubplot object at 0x7f35d99a58d0>,\n",
              "        <matplotlib.axes._subplots.AxesSubplot object at 0x7f35d9915290>,\n",
              "        <matplotlib.axes._subplots.AxesSubplot object at 0x7f35d9950510>],\n",
              "       [<matplotlib.axes._subplots.AxesSubplot object at 0x7f35d98c7990>,\n",
              "        <matplotlib.axes._subplots.AxesSubplot object at 0x7f35d987fe90>,\n",
              "        <matplotlib.axes._subplots.AxesSubplot object at 0x7f35d9840450>,\n",
              "        <matplotlib.axes._subplots.AxesSubplot object at 0x7f35d97f6890>],\n",
              "       [<matplotlib.axes._subplots.AxesSubplot object at 0x7f35d97f68d0>,\n",
              "        <matplotlib.axes._subplots.AxesSubplot object at 0x7f35d97aaed0>,\n",
              "        <matplotlib.axes._subplots.AxesSubplot object at 0x7f35d97a5810>,\n",
              "        <matplotlib.axes._subplots.AxesSubplot object at 0x7f35d975ad10>],\n",
              "       [<matplotlib.axes._subplots.AxesSubplot object at 0x7f35d971e250>,\n",
              "        <matplotlib.axes._subplots.AxesSubplot object at 0x7f35d96d6750>,\n",
              "        <matplotlib.axes._subplots.AxesSubplot object at 0x7f35d968dc50>,\n",
              "        <matplotlib.axes._subplots.AxesSubplot object at 0x7f35d9651190>]],\n",
              "      dtype=object)"
            ]
          },
          "metadata": {},
          "execution_count": 84
        },
        {
          "output_type": "display_data",
          "data": {
            "text/plain": [
              "<Figure size 1728x864 with 16 Axes>"
            ],
            "image/png": "[encoded data removed]"
          },
          "metadata": {
            "needs_background": "light"
          }
        }
      ],
      "source": [
        "plt.rcParams[\"figure.figsize\"] = (24, 12)\n",
        "principalDf_train.hist()"
      ]
    },
    {
      "cell_type": "markdown",
      "id": "79ec2cff",
      "metadata": {
        "papermill": {
          "duration": 0.021183,
          "end_time": "2022-10-20T04:16:49.411431",
          "exception": false,
          "start_time": "2022-10-20T04:16:49.390248",
          "status": "completed"
        },
        "tags": [],
        "id": "79ec2cff"
      },
      "source": [
        "# Experimenting with different algorithms using scaled data"
      ]
    },
    {
      "cell_type": "markdown",
      "id": "ef3915b5",
      "metadata": {
        "papermill": {
          "duration": 0.02182,
          "end_time": "2022-10-20T04:16:49.454864",
          "exception": false,
          "start_time": "2022-10-20T04:16:49.433044",
          "status": "completed"
        },
        "tags": [],
        "id": "ef3915b5"
      },
      "source": [
        "# 1. Naive Bayes"
      ]
    },
    {
      "cell_type": "code",
      "execution_count": null,
      "id": "e7643746",
      "metadata": {
        "execution": {
          "iopub.execute_input": "2022-10-20T04:16:49.500606Z",
          "iopub.status.busy": "2022-10-20T04:16:49.500144Z",
          "iopub.status.idle": "2022-10-20T04:16:49.516364Z",
          "shell.execute_reply": "2022-10-20T04:16:49.514687Z"
        },
        "papermill": {
          "duration": 0.043083,
          "end_time": "2022-10-20T04:16:49.519623",
          "exception": false,
          "start_time": "2022-10-20T04:16:49.476540",
          "status": "completed"
        },
        "tags": [],
        "colab": {
          "base_uri": "https://localhost:8080/"
        },
        "id": "e7643746",
        "outputId": "6b7f00b4-d879-4e01-e521-3c16333dfa42"
      },
      "outputs": [
        {
          "output_type": "stream",
          "name": "stderr",
          "text": [
            "/usr/local/lib/python3.7/dist-packages/sklearn/utils/validation.py:993: DataConversionWarning: A column-vector y was passed when a 1d array was expected. Please change the shape of y to (n_samples, ), for example using ravel().\n",
            "  y = column_or_1d(y, warn=True)\n"
          ]
        }
      ],
      "source": [
        "from sklearn.naive_bayes import GaussianNB\n",
        "clf_naiveBayes = GaussianNB().fit(X_trainscaled, y_train)\n",
        "nb_pred = clf_naiveBayes.predict(X_testscaled)"
      ]
    },
    {
      "cell_type": "code",
      "execution_count": null,
      "id": "1ea5a242",
      "metadata": {
        "execution": {
          "iopub.execute_input": "2022-10-20T04:16:49.566120Z",
          "iopub.status.busy": "2022-10-20T04:16:49.565577Z",
          "iopub.status.idle": "2022-10-20T04:16:49.574594Z",
          "shell.execute_reply": "2022-10-20T04:16:49.573157Z"
        },
        "papermill": {
          "duration": 0.034937,
          "end_time": "2022-10-20T04:16:49.577194",
          "exception": false,
          "start_time": "2022-10-20T04:16:49.542257",
          "status": "completed"
        },
        "tags": [],
        "colab": {
          "base_uri": "https://localhost:8080/"
        },
        "id": "1ea5a242",
        "outputId": "6bb3b16a-19fa-4b12-ede0-54f56c63b57e"
      },
      "outputs": [
        {
          "output_type": "stream",
          "name": "stdout",
          "text": [
            "0.7277676950998185\n"
          ]
        }
      ],
      "source": [
        "from sklearn.metrics import accuracy_score\n",
        "print(accuracy_score(y_test, nb_pred))"
      ]
    },
    {
      "cell_type": "code",
      "execution_count": null,
      "id": "d788f71f",
      "metadata": {
        "execution": {
          "iopub.execute_input": "2022-10-20T04:16:49.623906Z",
          "iopub.status.busy": "2022-10-20T04:16:49.623014Z",
          "iopub.status.idle": "2022-10-20T04:16:49.636065Z",
          "shell.execute_reply": "2022-10-20T04:16:49.634642Z"
        },
        "papermill": {
          "duration": 0.039826,
          "end_time": "2022-10-20T04:16:49.638946",
          "exception": false,
          "start_time": "2022-10-20T04:16:49.599120",
          "status": "completed"
        },
        "tags": [],
        "colab": {
          "base_uri": "https://localhost:8080/"
        },
        "id": "d788f71f",
        "outputId": "5035e292-5d49-440d-c280-39a68a15ffe0"
      },
      "outputs": [
        {
          "output_type": "stream",
          "name": "stdout",
          "text": [
            "              precision    recall  f1-score   support\n",
            "\n",
            "         1.0       1.00      0.66      0.79       183\n",
            "         2.0       0.57      0.95      0.71       185\n",
            "         3.0       0.88      0.57      0.69       183\n",
            "\n",
            "    accuracy                           0.73       551\n",
            "   macro avg       0.81      0.73      0.73       551\n",
            "weighted avg       0.81      0.73      0.73       551\n",
            "\n"
          ]
        }
      ],
      "source": [
        "# to see the accuracy of model\n",
        "from sklearn.metrics import classification_report\n",
        "print(classification_report(y_test, nb_pred))"
      ]
    },
    {
      "cell_type": "code",
      "execution_count": null,
      "id": "a3214312",
      "metadata": {
        "execution": {
          "iopub.execute_input": "2022-10-20T04:16:49.685754Z",
          "iopub.status.busy": "2022-10-20T04:16:49.684868Z",
          "iopub.status.idle": "2022-10-20T04:16:49.985677Z",
          "shell.execute_reply": "2022-10-20T04:16:49.984582Z"
        },
        "papermill": {
          "duration": 0.327348,
          "end_time": "2022-10-20T04:16:49.988315",
          "exception": false,
          "start_time": "2022-10-20T04:16:49.660967",
          "status": "completed"
        },
        "tags": [],
        "colab": {
          "base_uri": "https://localhost:8080/",
          "height": 707
        },
        "id": "a3214312",
        "outputId": "86e68d96-96fb-4e9b-cebb-856ea1e3434b"
      },
      "outputs": [
        {
          "output_type": "stream",
          "name": "stderr",
          "text": [
            "/usr/local/lib/python3.7/dist-packages/sklearn/utils/deprecation.py:87: FutureWarning: Function plot_confusion_matrix is deprecated; Function `plot_confusion_matrix` is deprecated in 1.0 and will be removed in 1.2. Use one of the class methods: ConfusionMatrixDisplay.from_predictions or ConfusionMatrixDisplay.from_estimator.\n",
            "  warnings.warn(msg, category=FutureWarning)\n"
          ]
        },
        {
          "output_type": "display_data",
          "data": {
            "text/plain": [
              "<Figure size 576x720 with 2 Axes>"
            ],
            "image/png": "[encoded data removed]"
          },
          "metadata": {
            "needs_background": "light"
          }
        }
      ],
      "source": [
        "# To see confusion matrix\n",
        "from sklearn.metrics import plot_confusion_matrix\n",
        "plt.rcParams[\"figure.figsize\"] = (8, 10)\n",
        "fig=plot_confusion_matrix(clf_naiveBayes, X_testscaled, y_test,display_labels=[\"0\",'1','2'],cmap=plt.cm.Blues,values_format = '.2f')\n",
        "fig.figure_.suptitle(\"Confusion Matrix Of Naive Bayes\")\n",
        "plt.show()"
      ]
    },
    {
      "cell_type": "markdown",
      "id": "ab8981eb",
      "metadata": {
        "papermill": {
          "duration": 0.023772,
          "end_time": "2022-10-20T04:16:50.036419",
          "exception": false,
          "start_time": "2022-10-20T04:16:50.012647",
          "status": "completed"
        },
        "tags": [],
        "id": "ab8981eb"
      },
      "source": [
        "# 2. Decision Tree"
      ]
    },
    {
      "cell_type": "code",
      "execution_count": null,
      "id": "1d76afd9",
      "metadata": {
        "execution": {
          "iopub.execute_input": "2022-10-20T04:16:50.088148Z",
          "iopub.status.busy": "2022-10-20T04:16:50.085397Z",
          "iopub.status.idle": "2022-10-20T04:16:50.134548Z",
          "shell.execute_reply": "2022-10-20T04:16:50.133370Z"
        },
        "papermill": {
          "duration": 0.077267,
          "end_time": "2022-10-20T04:16:50.137349",
          "exception": false,
          "start_time": "2022-10-20T04:16:50.060082",
          "status": "completed"
        },
        "tags": [],
        "id": "1d76afd9"
      },
      "outputs": [],
      "source": [
        "from sklearn.tree import DecisionTreeClassifier\n",
        "clf_dt = DecisionTreeClassifier(random_state=0).fit(X_trainscaled, y_train)\n",
        "dt_pred = clf_dt.predict(X_testscaled)"
      ]
    },
    {
      "cell_type": "code",
      "execution_count": null,
      "id": "09942da2",
      "metadata": {
        "execution": {
          "iopub.execute_input": "2022-10-20T04:16:50.188138Z",
          "iopub.status.busy": "2022-10-20T04:16:50.186882Z",
          "iopub.status.idle": "2022-10-20T04:16:50.194073Z",
          "shell.execute_reply": "2022-10-20T04:16:50.192971Z"
        },
        "papermill": {
          "duration": 0.036972,
          "end_time": "2022-10-20T04:16:50.197432",
          "exception": false,
          "start_time": "2022-10-20T04:16:50.160460",
          "status": "completed"
        },
        "tags": [],
        "colab": {
          "base_uri": "https://localhost:8080/"
        },
        "id": "09942da2",
        "outputId": "5595760f-fa59-4619-aae6-e2d13bc911a6"
      },
      "outputs": [
        {
          "output_type": "stream",
          "name": "stdout",
          "text": [
            "0.9600725952813067\n"
          ]
        }
      ],
      "source": [
        "print(accuracy_score(y_test, dt_pred))"
      ]
    },
    {
      "cell_type": "code",
      "execution_count": null,
      "id": "a92e0695",
      "metadata": {
        "execution": {
          "iopub.execute_input": "2022-10-20T04:16:50.246232Z",
          "iopub.status.busy": "2022-10-20T04:16:50.245737Z",
          "iopub.status.idle": "2022-10-20T04:16:50.258205Z",
          "shell.execute_reply": "2022-10-20T04:16:50.256506Z"
        },
        "papermill": {
          "duration": 0.039795,
          "end_time": "2022-10-20T04:16:50.260739",
          "exception": false,
          "start_time": "2022-10-20T04:16:50.220944",
          "status": "completed"
        },
        "tags": [],
        "colab": {
          "base_uri": "https://localhost:8080/"
        },
        "id": "a92e0695",
        "outputId": "2252bbe0-73b2-4f08-9590-86c331e1dee7"
      },
      "outputs": [
        {
          "output_type": "stream",
          "name": "stdout",
          "text": [
            "              precision    recall  f1-score   support\n",
            "\n",
            "         1.0       0.95      0.93      0.94       183\n",
            "         2.0       0.93      0.96      0.94       185\n",
            "         3.0       1.00      0.99      0.99       183\n",
            "\n",
            "    accuracy                           0.96       551\n",
            "   macro avg       0.96      0.96      0.96       551\n",
            "weighted avg       0.96      0.96      0.96       551\n",
            "\n"
          ]
        }
      ],
      "source": [
        "# to see the accuracy of model\n",
        "print(classification_report(y_test, dt_pred))"
      ]
    },
    {
      "cell_type": "code",
      "execution_count": null,
      "id": "c1ad68de",
      "metadata": {
        "execution": {
          "iopub.execute_input": "2022-10-20T04:16:50.309688Z",
          "iopub.status.busy": "2022-10-20T04:16:50.308967Z",
          "iopub.status.idle": "2022-10-20T04:16:50.588172Z",
          "shell.execute_reply": "2022-10-20T04:16:50.586805Z"
        },
        "papermill": {
          "duration": 0.307294,
          "end_time": "2022-10-20T04:16:50.591166",
          "exception": false,
          "start_time": "2022-10-20T04:16:50.283872",
          "status": "completed"
        },
        "tags": [],
        "colab": {
          "base_uri": "https://localhost:8080/",
          "height": 707
        },
        "id": "c1ad68de",
        "outputId": "728f6e77-19a5-4056-ef9e-1c87cabcb86f"
      },
      "outputs": [
        {
          "output_type": "stream",
          "name": "stderr",
          "text": [
            "/usr/local/lib/python3.7/dist-packages/sklearn/utils/deprecation.py:87: FutureWarning: Function plot_confusion_matrix is deprecated; Function `plot_confusion_matrix` is deprecated in 1.0 and will be removed in 1.2. Use one of the class methods: ConfusionMatrixDisplay.from_predictions or ConfusionMatrixDisplay.from_estimator.\n",
            "  warnings.warn(msg, category=FutureWarning)\n"
          ]
        },
        {
          "output_type": "display_data",
          "data": {
            "text/plain": [
              "<Figure size 576x720 with 2 Axes>"
            ],
            "image/png": "[encoded data removed]"
          },
          "metadata": {
            "needs_background": "light"
          }
        }
      ],
      "source": [
        "# To see confusion matrix\n",
        "from sklearn.metrics import plot_confusion_matrix\n",
        "plt.rcParams[\"figure.figsize\"] = (8, 10)\n",
        "fig=plot_confusion_matrix(clf_dt, X_testscaled, y_test,display_labels=[\"0\",'1','2'],cmap=plt.cm.Blues,values_format = '.2f')\n",
        "fig.figure_.suptitle(\"Confusion Matrix of Decision Tree\")\n",
        "plt.show()"
      ]
    },
    {
      "cell_type": "markdown",
      "id": "185d7c9d",
      "metadata": {
        "papermill": {
          "duration": 0.022547,
          "end_time": "2022-10-20T04:16:50.638337",
          "exception": false,
          "start_time": "2022-10-20T04:16:50.615790",
          "status": "completed"
        },
        "tags": [],
        "id": "185d7c9d"
      },
      "source": [
        "# Random Forest"
      ]
    },
    {
      "cell_type": "code",
      "execution_count": null,
      "id": "7a05d412",
      "metadata": {
        "execution": {
          "iopub.execute_input": "2022-10-20T04:16:50.687109Z",
          "iopub.status.busy": "2022-10-20T04:16:50.686333Z",
          "iopub.status.idle": "2022-10-20T04:16:51.365212Z",
          "shell.execute_reply": "2022-10-20T04:16:51.363763Z"
        },
        "papermill": {
          "duration": 0.7085,
          "end_time": "2022-10-20T04:16:51.369972",
          "exception": false,
          "start_time": "2022-10-20T04:16:50.661472",
          "status": "completed"
        },
        "tags": [],
        "colab": {
          "base_uri": "https://localhost:8080/"
        },
        "id": "7a05d412",
        "outputId": "f8f8d86f-b835-4599-c48b-3a653fc548a0"
      },
      "outputs": [
        {
          "output_type": "stream",
          "name": "stderr",
          "text": [
            "/usr/local/lib/python3.7/dist-packages/ipykernel_launcher.py:2: DataConversionWarning: A column-vector y was passed when a 1d array was expected. Please change the shape of y to (n_samples,), for example using ravel().\n",
            "  \n"
          ]
        }
      ],
      "source": [
        "from sklearn.ensemble import RandomForestClassifier\n",
        "clf_rf = RandomForestClassifier(max_depth=20, random_state=0).fit(X_trainscaled, y_train)\n",
        "rf_pred = clf_rf.predict(X_testscaled)"
      ]
    },
    {
      "cell_type": "code",
      "execution_count": null,
      "id": "aacf10fd",
      "metadata": {
        "execution": {
          "iopub.execute_input": "2022-10-20T04:16:51.424546Z",
          "iopub.status.busy": "2022-10-20T04:16:51.423362Z",
          "iopub.status.idle": "2022-10-20T04:16:51.436881Z",
          "shell.execute_reply": "2022-10-20T04:16:51.431399Z"
        },
        "papermill": {
          "duration": 0.043399,
          "end_time": "2022-10-20T04:16:51.440380",
          "exception": false,
          "start_time": "2022-10-20T04:16:51.396981",
          "status": "completed"
        },
        "tags": [],
        "colab": {
          "base_uri": "https://localhost:8080/"
        },
        "id": "aacf10fd",
        "outputId": "51319ebf-ad0d-42b8-bff5-e5a44149613c"
      },
      "outputs": [
        {
          "output_type": "stream",
          "name": "stdout",
          "text": [
            "0.969147005444646\n"
          ]
        }
      ],
      "source": [
        "print(accuracy_score(y_test, rf_pred))"
      ]
    },
    {
      "cell_type": "code",
      "execution_count": null,
      "id": "16d140f0",
      "metadata": {
        "execution": {
          "iopub.execute_input": "2022-10-20T04:16:51.505634Z",
          "iopub.status.busy": "2022-10-20T04:16:51.504742Z",
          "iopub.status.idle": "2022-10-20T04:16:51.518863Z",
          "shell.execute_reply": "2022-10-20T04:16:51.517435Z"
        },
        "papermill": {
          "duration": 0.044903,
          "end_time": "2022-10-20T04:16:51.521804",
          "exception": false,
          "start_time": "2022-10-20T04:16:51.476901",
          "status": "completed"
        },
        "tags": [],
        "colab": {
          "base_uri": "https://localhost:8080/"
        },
        "id": "16d140f0",
        "outputId": "131d76ce-c4c7-4686-c4ae-a5515100e23a"
      },
      "outputs": [
        {
          "output_type": "stream",
          "name": "stdout",
          "text": [
            "              precision    recall  f1-score   support\n",
            "\n",
            "         1.0       0.98      0.93      0.96       183\n",
            "         2.0       0.94      0.98      0.96       185\n",
            "         3.0       0.99      0.99      0.99       183\n",
            "\n",
            "    accuracy                           0.97       551\n",
            "   macro avg       0.97      0.97      0.97       551\n",
            "weighted avg       0.97      0.97      0.97       551\n",
            "\n"
          ]
        }
      ],
      "source": [
        "# to see the accuracy of model\n",
        "print(classification_report(y_test, rf_pred))"
      ]
    },
    {
      "cell_type": "code",
      "execution_count": null,
      "id": "b2cb1a9f",
      "metadata": {
        "execution": {
          "iopub.execute_input": "2022-10-20T04:16:51.576089Z",
          "iopub.status.busy": "2022-10-20T04:16:51.575191Z",
          "iopub.status.idle": "2022-10-20T04:16:51.895559Z",
          "shell.execute_reply": "2022-10-20T04:16:51.894287Z"
        },
        "papermill": {
          "duration": 0.350201,
          "end_time": "2022-10-20T04:16:51.898937",
          "exception": false,
          "start_time": "2022-10-20T04:16:51.548736",
          "status": "completed"
        },
        "tags": [],
        "colab": {
          "base_uri": "https://localhost:8080/",
          "height": 701
        },
        "id": "b2cb1a9f",
        "outputId": "8875ec79-b032-48f9-9ede-8d80c02a03d3"
      },
      "outputs": [
        {
          "output_type": "stream",
          "name": "stderr",
          "text": [
            "/usr/local/lib/python3.7/dist-packages/sklearn/utils/deprecation.py:87: FutureWarning: Function plot_confusion_matrix is deprecated; Function `plot_confusion_matrix` is deprecated in 1.0 and will be removed in 1.2. Use one of the class methods: ConfusionMatrixDisplay.from_predictions or ConfusionMatrixDisplay.from_estimator.\n",
            "  warnings.warn(msg, category=FutureWarning)\n"
          ]
        },
        {
          "output_type": "display_data",
          "data": {
            "text/plain": [
              "<Figure size 576x720 with 2 Axes>"
            ],
            "image/png": "[encoded data removed]"
          },
          "metadata": {
            "needs_background": "light"
          }
        }
      ],
      "source": [
        "# To see confusion matrix\n",
        "from sklearn.metrics import plot_confusion_matrix\n",
        "plt.rcParams[\"figure.figsize\"] = (8, 10)\n",
        "fig=plot_confusion_matrix(clf_rf, X_testscaled, y_test,display_labels=[\"0\",'1','2'],cmap=plt.cm.Blues,values_format = '.2f')\n",
        "fig.figure_.suptitle(\"Confusion Matrix of Random Forest\")\n",
        "plt.show()"
      ]
    },
    {
      "cell_type": "markdown",
      "id": "e5584a67",
      "metadata": {
        "papermill": {
          "duration": 0.027362,
          "end_time": "2022-10-20T04:16:54.714081",
          "exception": false,
          "start_time": "2022-10-20T04:16:54.686719",
          "status": "completed"
        },
        "tags": [],
        "id": "e5584a67"
      },
      "source": [
        "# Conclusion\n",
        "When we used scaled data we got to know that RANDOM FOREST performs best with 97% accuracy, but when we used PCA data we got to know that NAIVE BAYES is the best in classifying with 63% accuracy."
      ]
    }
  ],
  "metadata": {
    "kernelspec": {
      "display_name": "Python 3",
      "language": "python",
      "name": "python3"
    },
    "language_info": {
      "codemirror_mode": {
        "name": "ipython",
        "version": 3
      },
      "file_extension": ".py",
      "mimetype": "text/x-python",
      "name": "python",
      "nbconvert_exporter": "python",
      "pygments_lexer": "ipython3",
      "version": "3.7.12"
    },
    "papermill": {
      "default_parameters": {},
      "duration": 29.84654,
      "end_time": "2022-10-20T04:16:56.067159",
      "environment_variables": {},
      "exception": null,
      "input_path": "__notebook__.ipynb",
      "output_path": "__notebook__.ipynb",
      "parameters": {},
      "start_time": "2022-10-20T04:16:26.220619",
      "version": "2.3.4"
    },
    "colab": {
      "provenance": [],
      "include_colab_link": true
    }
  },
  "nbformat": 4,
  "nbformat_minor": 5
}